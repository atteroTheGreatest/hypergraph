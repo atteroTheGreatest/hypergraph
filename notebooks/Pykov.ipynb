{
 "metadata": {
  "name": "",
  "signature": "sha256:25d5e2f06395ff6dda482f8e546b880517bb26be941ce99e5ac3ece7976bf49b"
 },
 "nbformat": 3,
 "nbformat_minor": 0,
 "worksheets": [
  {
   "cells": [
    {
     "cell_type": "markdown",
     "metadata": {},
     "source": [
      "## Purpose of the notebook\n",
      "explore pykov\n"
     ]
    },
    {
     "cell_type": "code",
     "collapsed": false,
     "input": [
      "%matplotlib inline\n",
      "import pykov\n",
      "\n",
      "T = pykov.Chain({('A','B'): .3, ('A','A'): .7, ('B','A'): 1.})\n",
      "T.steady()"
     ],
     "language": "python",
     "metadata": {},
     "outputs": [
      {
       "metadata": {},
       "output_type": "pyout",
       "prompt_number": 4,
       "text": [
        "{'B': 0.23076923076923075, 'A': 0.76923076923076938}"
       ]
      }
     ],
     "prompt_number": 4
    },
    {
     "cell_type": "code",
     "collapsed": false,
     "input": [
      "import numpy as np\n",
      "\n",
      "from functools import partial\n",
      "from matplotlib import pyplot as plt\n",
      "\n",
      "from numpy import linalg as LA\n",
      "\n",
      "from hypergraph import generators\n",
      "from hypergraph.analytical import prediction\n",
      "from hypergraph import utils\n",
      "from hypergraph.markov_diffusion import create_markov_matrix_model_nodes\n",
      "from hypergraph.markov_diffusion import create_markov_matrix_model_hyper_edges\n",
      "\n",
      "\n",
      "def hypergraph_analytical_edges(HG):\n",
      "    phis = []\n",
      "    number_of_nodes = len(HG.nodes())\n",
      "    all_phis = 0\n",
      "    for edge in HG.hyper_edges():\n",
      "        phis.append(len(edge))\n",
      "        all_phis += len(edge)\n",
      "    \n",
      "    pis = [phi / all_phis for phi in phis]\n",
      "    return pis\n",
      "\n",
      "\n",
      "\n",
      "all_models = {\n",
      "    \"node\": {\n",
      "        \"analytical\": partial(prediction, model='hypergraph_nodes'),\n",
      "        \"numerical\": create_markov_matrix_model_nodes,\n",
      "        \"name\": \"node\",\n",
      "    },\n",
      "    \"hyperedges\": {\n",
      "        \"analytical\": partial(prediction, model='hypergraph_edges'),\n",
      "        \"numerical\": create_markov_matrix_model_hyper_edges,\n",
      "        \"name\": \"hyperedges\",\n",
      "    }\n",
      "}\n",
      "\n",
      "\n",
      "def show_models(HG):\n",
      "    model = all_models['node']\n",
      "\n",
      "    def show_model(model):\n",
      "        markov_matrix = model[\"numerical\"](HG)\n",
      "        print(markov_matrix)\n",
      "    show_model(model)\n",
      "\n",
      "\n",
      "def transition_matrix_to_pykov_chain(matrix):\n",
      "    chain = pykov.Chain()\n",
      "    \n",
      "    for i, row in enumerate(matrix):\n",
      "        for j, column in enumerate(row):\n",
      "            chain[(i, j)] = column\n",
      "    return chain\n",
      "\n"
     ],
     "language": "python",
     "metadata": {},
     "outputs": [],
     "prompt_number": 13
    },
    {
     "cell_type": "code",
     "collapsed": false,
     "input": [
      "HG = generators.generic_hypergraph(9, ((3, 5), (3, 3)))\n",
      "show_models(HG)"
     ],
     "language": "python",
     "metadata": {},
     "outputs": [
      {
       "output_type": "stream",
       "stream": "stdout",
       "text": [
        "[[ 0.33333333  0.11111111  0.11111111  0.22222222  0.          0.\n",
        "   0.11111111  0.          0.11111111]\n",
        " [ 0.11111111  0.33333333  0.22222222  0.11111111  0.          0.\n",
        "   0.11111111  0.11111111  0.        ]\n",
        " [ 0.08333333  0.16666667  0.33333333  0.25        0.          0.08333333\n",
        "   0.          0.08333333  0.        ]\n",
        " [ 0.16666667  0.08333333  0.25        0.33333333  0.          0.08333333\n",
        "   0.          0.          0.08333333]\n",
        " [ 0.          0.          0.          0.          0.33333333  0.16666667\n",
        "   0.16666667  0.16666667  0.16666667]\n",
        " [ 0.          0.          0.16666667  0.16666667  0.16666667  0.33333333\n",
        "   0.          0.          0.16666667]\n",
        " [ 0.16666667  0.16666667  0.          0.          0.16666667  0.\n",
        "   0.33333333  0.16666667  0.        ]\n",
        " [ 0.          0.16666667  0.16666667  0.          0.16666667  0.\n",
        "   0.16666667  0.33333333  0.        ]\n",
        " [ 0.16666667  0.          0.          0.16666667  0.16666667  0.16666667\n",
        "   0.          0.          0.33333333]]\n"
       ]
      }
     ],
     "prompt_number": 14
    },
    {
     "cell_type": "code",
     "collapsed": false,
     "input": [
      "def plot_stuff(xs, ys, ys_prediction, freqs_matrix):\n",
      "    width = 0.2\n",
      "    plt.figure(figsize=(10, 8))\n",
      "    plt.bar(xs, ys, width=width, color='crimson', label='Steady state for chains')\n",
      "\n",
      "    print('prediction', ys_prediction)\n",
      "    plt.bar(np.array(xs) + 1 * width, ys_prediction, width=width, color='#dcccdd', label='Analytical')\n",
      "    plt.bar(np.array(xs) + 2 *  width, freqs_matrix, width=width, label='Traversal matrix to N')\n",
      "    plt.legend(loc=0)\n",
      "    "
     ],
     "language": "python",
     "metadata": {},
     "outputs": [],
     "prompt_number": 19
    },
    {
     "cell_type": "code",
     "collapsed": false,
     "input": [
      "mm = create_markov_matrix_model_nodes(HG)\n",
      "print('Matrix from model nodes')\n",
      "print(mm)\n",
      "\n",
      "chain = transition_matrix_to_pykov_chain(mm)\n",
      "print('\\nChain')\n",
      "print(chain)"
     ],
     "language": "python",
     "metadata": {},
     "outputs": [
      {
       "output_type": "stream",
       "stream": "stdout",
       "text": [
        "Matrix from model nodes\n",
        "[[ 0.33333333  0.11111111  0.11111111  0.22222222  0.          0.\n",
        "   0.11111111  0.          0.11111111]\n",
        " [ 0.11111111  0.33333333  0.22222222  0.11111111  0.          0.\n",
        "   0.11111111  0.11111111  0.        ]\n",
        " [ 0.08333333  0.16666667  0.33333333  0.25        0.          0.08333333\n",
        "   0.          0.08333333  0.        ]\n",
        " [ 0.16666667  0.08333333  0.25        0.33333333  0.          0.08333333\n",
        "   0.          0.          0.08333333]\n",
        " [ 0.          0.          0.          0.          0.33333333  0.16666667\n",
        "   0.16666667  0.16666667  0.16666667]\n",
        " [ 0.          0.          0.16666667  0.16666667  0.16666667  0.33333333\n",
        "   0.          0.          0.16666667]\n",
        " [ 0.16666667  0.16666667  0.          0.          0.16666667  0.\n",
        "   0.33333333  0.16666667  0.        ]\n",
        " [ 0.          0.16666667  0.16666667  0.          0.16666667  0.\n",
        "   0.16666667  0.33333333  0.        ]\n",
        " [ 0.16666667  0.          0.          0.16666667  0.16666667  0.16666667\n",
        "   0.          0.          0.33333333]]\n",
        "\n",
        "Chain\n",
        "{(4, 7): 0.16666666666666666, (1, 3): 0.1111111111111111, (6, 6): 0.33333333333333331, (3, 0): 0.16666666666666666, (8, 0): 0.16666666666666666, (5, 4): 0.16666666666666666, (2, 1): 0.16666666666666666, (1, 6): 0.1111111111111111, (2, 5): 0.083333333333333329, (8, 5): 0.16666666666666666, (0, 3): 0.22222222222222221, (5, 8): 0.16666666666666666, (1, 2): 0.22222222222222221, (3, 8): 0.083333333333333329, (6, 7): 0.16666666666666666, (5, 5): 0.33333333333333331, (2, 0): 0.083333333333333329, (7, 6): 0.16666666666666666, (4, 8): 0.16666666666666666, (4, 4): 0.33333333333333331, (3, 3): 0.33333333333333331, (7, 2): 0.16666666666666666, (2, 2): 0.33333333333333331, (6, 4): 0.16666666666666666, (5, 3): 0.16666666666666666, (1, 1): 0.33333333333333331, (0, 1): 0.1111111111111111, (3, 2): 0.25, (0, 0): 0.33333333333333331, (7, 1): 0.16666666666666666, (4, 5): 0.16666666666666666, (6, 0): 0.16666666666666666, (7, 7): 0.33333333333333331, (2, 3): 0.25, (1, 0): 0.1111111111111111, (0, 8): 0.1111111111111111, (3, 5): 0.083333333333333329, (2, 7): 0.083333333333333329, (8, 3): 0.16666666666666666, (4, 6): 0.16666666666666666, (6, 1): 0.16666666666666666, (3, 1): 0.083333333333333329, (7, 4): 0.16666666666666666, (0, 6): 0.1111111111111111, (8, 8): 0.33333333333333331, (1, 7): 0.1111111111111111, (5, 2): 0.16666666666666666, (0, 2): 0.1111111111111111, (8, 4): 0.16666666666666666}\n"
       ]
      }
     ],
     "prompt_number": 20
    },
    {
     "cell_type": "code",
     "collapsed": false,
     "input": [
      "chain_transposed = pykov.Chain(chain)\n",
      "xs, ys = zip(*chain_transposed.steady().items())\n",
      "print(xs, ys)\n",
      "print(chain_transposed.succ(1))\n",
      "print('steady pykov', chain_transposed.steady())\n",
      "\n",
      "freqs_matrix = LA.matrix_power(mm, 40)[0]\n",
      "model = all_models['node']     \n",
      "        \n",
      "xs = list(map(int, xs))\n",
      "ys_prediction = model[\"analytical\"](HG)\n",
      "\n",
      "plot_stuff(xs, ys, ys_prediction, freqs_matrix)"
     ],
     "language": "python",
     "metadata": {},
     "outputs": [
      {
       "output_type": "stream",
       "stream": "stdout",
       "text": [
        "(0, 1, 2, 3, 4, 5, 6, 7, 8) (0.12499999999999994, 0.12499999999999993, 0.16666666666666657, 0.16666666666666666, 0.083333333333333356, 0.08333333333333337, 0.083333333333333287, 0.083333333333333287, 0.083333333333333523)\n",
        "{0: 0.1111111111111111, 1: 0.33333333333333331, 2: 0.22222222222222221, 3: 0.1111111111111111, 6: 0.1111111111111111, 7: 0.1111111111111111}\n",
        "steady pykov {0: 0.12499999999999994, 1: 0.12499999999999993, 2: 0.16666666666666657, 3: 0.16666666666666666, 4: 0.083333333333333356, 5: 0.08333333333333337, 6: 0.083333333333333287, 7: 0.083333333333333287, 8: 0.083333333333333523}\n",
        "prediction"
       ]
      },
      {
       "output_type": "stream",
       "stream": "stdout",
       "text": [
        " [0.125, 0.125, 0.16666666666666666, 0.16666666666666666, 0.08333333333333333, 0.08333333333333333, 0.08333333333333333, 0.08333333333333333, 0.08333333333333333]\n"
       ]
      },
      {
       "metadata": {},
       "output_type": "display_data",
       "png": "[encoded data removed]",
       "text": [
        "<matplotlib.figure.Figure at 0x7fad64002400>"
       ]
      }
     ],
     "prompt_number": 21
    }
   ],
   "metadata": {}
  }
 ]
}