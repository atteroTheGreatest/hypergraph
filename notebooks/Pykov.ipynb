{
 "metadata": {
  "name": "",
  "signature": "sha256:ab6d5bb12f78c35e354156d752436457e833f69a9029820977702d58783824f5"
 },
 "nbformat": 3,
 "nbformat_minor": 0,
 "worksheets": [
  {
   "cells": [
    {
     "cell_type": "code",
     "collapsed": false,
     "input": [
      "!pip install pykov"
     ],
     "language": "python",
     "metadata": {},
     "outputs": [
      {
       "output_type": "stream",
       "stream": "stdout",
       "text": [
        "\u001b[33mDEPRECATION: --no-install, --no-download, --build, and --no-clean are deprecated.  See https://github.com/pypa/pip/issues/906.\r\n",
        "\u001b[0mDownloading/unpacking pykov\r\n"
       ]
      },
      {
       "output_type": "stream",
       "stream": "stdout",
       "text": [
        "  Downloading pykov-1.1.tar.gz\r\n"
       ]
      },
      {
       "output_type": "stream",
       "stream": "stdout",
       "text": [
        "  Running setup.py (path:/home/att/Envs/hyper/build/pykov/setup.py) egg_info for package pykov\r\n"
       ]
      },
      {
       "output_type": "stream",
       "stream": "stdout",
       "text": [
        "    \r\n"
       ]
      },
      {
       "output_type": "stream",
       "stream": "stdout",
       "text": [
        "Requirement already satisfied (use --upgrade to upgrade): scipy in /home/att/Envs/hyper/lib/python3.4/site-packages (from pykov)\r\n",
        "Requirement already satisfied (use --upgrade to upgrade): numpy in /home/att/Envs/hyper/lib/python3.4/site-packages (from pykov)\r\n",
        "Installing collected packages: pykov\r\n",
        "  Running setup.py install for pykov\r\n"
       ]
      },
      {
       "output_type": "stream",
       "stream": "stdout",
       "text": [
        "    \r\n"
       ]
      },
      {
       "output_type": "stream",
       "stream": "stdout",
       "text": [
        "Successfully installed pykov\r\n",
        "Cleaning up...\r\n"
       ]
      }
     ],
     "prompt_number": 3
    },
    {
     "cell_type": "code",
     "collapsed": false,
     "input": [
      "%matplotlib inline\n",
      "import pykov\n",
      "\n",
      "T = pykov.Chain({('A','B'): .3, ('A','A'): .7, ('B','A'): 1.})\n",
      "T.steady()"
     ],
     "language": "python",
     "metadata": {},
     "outputs": [
      {
       "metadata": {},
       "output_type": "pyout",
       "prompt_number": 5,
       "text": [
        "{'B': 0.23076923076923075, 'A': 0.76923076923076938}"
       ]
      }
     ],
     "prompt_number": 5
    },
    {
     "cell_type": "code",
     "collapsed": false,
     "input": [
      "import numpy as np\n",
      "\n",
      "from functools import partial\n",
      "from matplotlib import pyplot as plt\n",
      "\n",
      "from numpy import linalg as LA\n",
      "\n",
      "from hypergraph import generators\n",
      "from hypergraph.analytical import prediction\n",
      "from hypergraph import utils\n",
      "from hypergraph.markov_diffusion import create_markov_matrix_model_nodes\n",
      "from hypergraph.markov_diffusion import create_markov_matrix_model_hyper_edges\n",
      "\n",
      "\n",
      "def hypergraph_analytical_edges(HG):\n",
      "    phis = []\n",
      "    number_of_nodes = len(HG.nodes())\n",
      "    all_phis = 0\n",
      "    for edge in HG.hyper_edges():\n",
      "        phis.append(len(edge))\n",
      "        all_phis += len(edge)\n",
      "    \n",
      "    pis = [phi / all_phis for phi in phis]\n",
      "    return pis\n",
      "\n",
      "\n",
      "\n",
      "all_models={\"node\": {\"analytical\": partial(prediction, model='hypergraph'),\n",
      "                    \"numerical\": create_markov_matrix_model_nodes,\n",
      "                    \"name\": \"node\",\n",
      "                   },\n",
      "            \"hyperedges\": {\"analytical\": hypergraph_analytical_edges,\n",
      "                           \"numerical\": create_markov_matrix_model_hyper_edges,\n",
      "                           \"name\": \"hyperedges\",\n",
      "    }\n",
      "}\n",
      "\n",
      "\n",
      "def show_models(HG):\n",
      "    model = all_models['node']\n",
      "\n",
      "    def show_model(model):\n",
      "        markov_matrix = model[\"numerical\"](HG)\n",
      "        print(markov_matrix)\n",
      "    show_model(model)\n",
      "\n",
      "\n",
      "def transition_matrix_to_pykov_chain(matrix):\n",
      "    chain = pykov.Chain()\n",
      "    \n",
      "    for i, row in enumerate(matrix):\n",
      "        for j, column in enumerate(row):\n",
      "            chain[(i, j)] = column\n",
      "    print(chain)\n",
      "    return chain\n",
      "\n"
     ],
     "language": "python",
     "metadata": {},
     "outputs": [],
     "prompt_number": 6
    },
    {
     "cell_type": "code",
     "collapsed": false,
     "input": [
      "HG = generators.generic_hypergraph(9, ((3, 5), (3, 3)))\n",
      "show_models(HG)"
     ],
     "language": "python",
     "metadata": {},
     "outputs": [
      {
       "output_type": "stream",
       "stream": "stdout",
       "text": [
        "[[ 0.33333333  0.          0.          0.          0.33333333  0.33333333\n",
        "   0.          0.          0.        ]\n",
        " [ 0.          0.33333333  0.16666667  0.          0.08333333  0.08333333\n",
        "   0.08333333  0.16666667  0.08333333]\n",
        " [ 0.          0.22222222  0.33333333  0.11111111  0.11111111  0.\n",
        "   0.11111111  0.11111111  0.        ]\n",
        " [ 0.          0.          0.16666667  0.33333333  0.          0.\n",
        "   0.33333333  0.          0.16666667]\n",
        " [ 0.16666667  0.16666667  0.16666667  0.          0.33333333  0.16666667\n",
        "   0.          0.          0.        ]\n",
        " [ 0.16666667  0.16666667  0.          0.          0.16666667  0.33333333\n",
        "   0.16666667  0.          0.        ]\n",
        " [ 0.          0.08333333  0.08333333  0.16666667  0.          0.08333333\n",
        "   0.33333333  0.08333333  0.16666667]\n",
        " [ 0.          0.22222222  0.11111111  0.          0.          0.\n",
        "   0.11111111  0.33333333  0.22222222]\n",
        " [ 0.          0.11111111  0.          0.11111111  0.          0.\n",
        "   0.22222222  0.22222222  0.33333333]]\n"
       ]
      }
     ],
     "prompt_number": 7
    },
    {
     "cell_type": "code",
     "collapsed": false,
     "input": [
      "\n",
      "def plot_stuff(xs, ys, ys_prediction, freqs_matrix):\n",
      "    width = 0.2\n",
      "    plt.figure(figsize=(10, 8))\n",
      "    plt.bar(xs, ys, width=width, color='crimson', label='Simulated')\n",
      "\n",
      "    print('prediction', ys_prediction)\n",
      "    plt.bar(np.array(xs) + 1 * width, ys_prediction, width=width, color='#dcccdd', label='Analytical')\n",
      "    plt.bar(np.array(xs) + 2 *  width, freqs_matrix, width=width, label='Traversal matrix to N')\n",
      "    plt.legend(loc=0)\n",
      "    \n",
      "\n",
      "mm = create_markov_matrix_model_nodes(HG)\n",
      "print(mm)\n",
      "chain = transition_matrix_to_pykov_chain(mm)\n",
      "print(chain)\n",
      "\n",
      "chain_transposed = pykov.Chain(chain)\n",
      "xs, ys = zip(*chain_transposed.steady().items())\n",
      "print(xs, ys)\n",
      "print(chain_transposed.succ(1))\n",
      "print('steady pykov', chain_transposed.steady())\n",
      "\n",
      "freqs_matrix = LA.matrix_power(mm, 40)[0]\n",
      "model = all_models['node']     \n",
      "        \n",
      "xs = list(map(int, xs))\n",
      "ys_prediction = model[\"analytical\"](HG)\n",
      "\n",
      "plot_stuff(xs, ys, ys_prediction, freqs_matrix)"
     ],
     "language": "python",
     "metadata": {},
     "outputs": [
      {
       "output_type": "stream",
       "stream": "stdout",
       "text": [
        "[[ 0.33333333  0.          0.          0.          0.33333333  0.33333333\n",
        "   0.          0.          0.        ]\n",
        " [ 0.          0.33333333  0.16666667  0.          0.08333333  0.08333333\n",
        "   0.08333333  0.16666667  0.08333333]\n",
        " [ 0.          0.22222222  0.33333333  0.11111111  0.11111111  0.\n",
        "   0.11111111  0.11111111  0.        ]\n",
        " [ 0.          0.          0.16666667  0.33333333  0.          0.\n",
        "   0.33333333  0.          0.16666667]\n",
        " [ 0.16666667  0.16666667  0.16666667  0.          0.33333333  0.16666667\n",
        "   0.          0.          0.        ]\n",
        " [ 0.16666667  0.16666667  0.          0.          0.16666667  0.33333333\n",
        "   0.16666667  0.          0.        ]\n",
        " [ 0.          0.08333333  0.08333333  0.16666667  0.          0.08333333\n",
        "   0.33333333  0.08333333  0.16666667]\n",
        " [ 0.          0.22222222  0.11111111  0.          0.          0.\n",
        "   0.11111111  0.33333333  0.22222222]\n",
        " [ 0.          0.11111111  0.          0.11111111  0.          0.\n",
        "   0.22222222  0.22222222  0.33333333]]\n",
        "{(6, 6): 0.33333333333333331, (5, 6): 0.16666666666666669, (5, 4): 0.16666666666666669, (2, 1): 0.22222222222222215, (2, 6): 0.11111111111111108, (1, 6): 0.083333333333333329, (5, 1): 0.16666666666666669, (7, 2): 0.11111111111111112, (4, 0): 0.16666666666666669, (1, 2): 0.16666666666666666, (6, 7): 0.083333333333333329, (3, 3): 0.33333333333333337, (8, 1): 0.1111111111111111, (7, 6): 0.11111111111111112, (4, 4): 0.33333333333333337, (6, 3): 0.16666666666666666, (1, 5): 0.083333333333333329, (8, 8): 0.33333333333333331, (5, 0): 0.16666666666666669, (2, 2): 0.33333333333333326, (8, 6): 0.22222222222222221, (4, 1): 0.16666666666666669, (1, 1): 0.33333333333333331, (3, 2): 0.16666666666666669, (0, 0): 0.33333333333333331, (3, 6): 0.33333333333333337, (7, 1): 0.22222222222222224, (4, 5): 0.16666666666666669, (0, 4): 0.33333333333333331, (1, 4): 0.083333333333333329, (7, 7): 0.33333333333333337, (0, 5): 0.33333333333333331, (8, 7): 0.22222222222222221, (4, 2): 0.16666666666666669, (6, 5): 0.083333333333333329, (5, 5): 0.33333333333333337, (2, 7): 0.11111111111111108, (8, 3): 0.1111111111111111, (6, 8): 0.16666666666666666, (6, 1): 0.083333333333333329, (3, 8): 0.16666666666666669, (1, 8): 0.083333333333333329, (6, 2): 0.083333333333333329, (1, 7): 0.16666666666666666, (2, 3): 0.11111111111111108, (7, 8): 0.22222222222222224, (2, 4): 0.11111111111111108}\n",
        "{(6, 6): 0.33333333333333331, (5, 6): 0.16666666666666669, (5, 4): 0.16666666666666669, (2, 1): 0.22222222222222215, (2, 6): 0.11111111111111108, (1, 6): 0.083333333333333329, (5, 1): 0.16666666666666669, (7, 2): 0.11111111111111112, (4, 0): 0.16666666666666669, (1, 2): 0.16666666666666666, (6, 7): 0.083333333333333329, (3, 3): 0.33333333333333337, (8, 1): 0.1111111111111111, (7, 6): 0.11111111111111112, (4, 4): 0.33333333333333337, (6, 3): 0.16666666666666666, (1, 5): 0.083333333333333329, (8, 8): 0.33333333333333331, (5, 0): 0.16666666666666669, (2, 2): 0.33333333333333326, (8, 6): 0.22222222222222221, (4, 1): 0.16666666666666669, (1, 1): 0.33333333333333331, (3, 2): 0.16666666666666669, (0, 0): 0.33333333333333331, (3, 6): 0.33333333333333337, (7, 1): 0.22222222222222224, (4, 5): 0.16666666666666669, (0, 4): 0.33333333333333331, (1, 4): 0.083333333333333329, (7, 7): 0.33333333333333337, (0, 5): 0.33333333333333331, (8, 7): 0.22222222222222221, (4, 2): 0.16666666666666669, (6, 5): 0.083333333333333329, (5, 5): 0.33333333333333337, (2, 7): 0.11111111111111108, (8, 3): 0.1111111111111111, (6, 8): 0.16666666666666666, (6, 1): 0.083333333333333329, (3, 8): 0.16666666666666669, (1, 8): 0.083333333333333329, (6, 2): 0.083333333333333329, (1, 7): 0.16666666666666666, (2, 3): 0.11111111111111108, (7, 8): 0.22222222222222224, (2, 4): 0.11111111111111108}\n",
        "(0, 1, 2, 3, 4, 5, 6, 7, 8) (0.041666666666666637, 0.16666666666666663, 0.12499999999999997, 0.083333333333333343, 0.083333333333333287, 0.083333333333333287, 0.16666666666666669, 0.12500000000000003, 0.12500000000000011)\n",
        "{1: 0.33333333333333331, 2: 0.16666666666666666, 4: 0.083333333333333329, 5: 0.083333333333333329, 6: 0.083333333333333329, 7: 0.16666666666666666, 8: 0.083333333333333329}\n",
        "steady pykov {0: 0.041666666666666637, 1: 0.16666666666666663, 2: 0.12499999999999997, 3: 0.083333333333333343, 4: 0.083333333333333287, 5: 0.083333333333333287, 6: 0.16666666666666669, 7: 0.12500000000000003, 8: 0.12500000000000011}\n",
        "prediction"
       ]
      },
      {
       "output_type": "stream",
       "stream": "stdout",
       "text": [
        " [0.041666666666666664, 0.16666666666666666, 0.125, 0.08333333333333333, 0.08333333333333333, 0.08333333333333333, 0.16666666666666666, 0.125, 0.125]\n"
       ]
      },
      {
       "metadata": {},
       "output_type": "display_data",
       "png": "[encoded data removed]",
       "text": [
        "<matplotlib.figure.Figure at 0x7f99780d17f0>"
       ]
      }
     ],
     "prompt_number": 10
    },
    {
     "cell_type": "code",
     "collapsed": false,
     "input": [
      "print('{')\n",
      "for m in mm:\n",
      "    print('{')\n",
      "    print(m[0])\n",
      "    for item in m[1:]:\n",
      "        print(\", %s\" % item)\n",
      "    print('},')\n",
      "print('}')"
     ],
     "language": "python",
     "metadata": {},
     "outputs": [
      {
       "output_type": "stream",
       "stream": "stdout",
       "text": [
        "{\n",
        "{\n",
        "0.333333333333\n",
        ", 0.0\n",
        ", 0.0\n",
        ", 0.0\n",
        ", 0.333333333333\n",
        ", 0.333333333333\n",
        ", 0.0\n",
        ", 0.0\n",
        ", 0.0\n",
        "},\n",
        "{\n",
        "0.0\n",
        ", 0.333333333333\n",
        ", 0.166666666667\n",
        ", 0.0\n",
        ", 0.0833333333333\n",
        ", 0.0833333333333\n",
        ", 0.0833333333333\n",
        ", 0.166666666667\n",
        ", 0.0833333333333\n",
        "},\n",
        "{\n",
        "0.0\n",
        ", 0.222222222222\n",
        ", 0.333333333333\n",
        ", 0.111111111111\n",
        ", 0.111111111111\n",
        ", 0.0\n",
        ", 0.111111111111\n",
        ", 0.111111111111\n",
        ", 0.0\n",
        "},\n",
        "{\n",
        "0.0\n",
        ", 0.0\n",
        ", 0.166666666667\n",
        ", 0.333333333333\n",
        ", 0.0\n",
        ", 0.0\n",
        ", 0.333333333333\n",
        ", 0.0\n",
        ", 0.166666666667\n",
        "},\n",
        "{\n",
        "0.166666666667\n",
        ", 0.166666666667\n",
        ", 0.166666666667\n",
        ", 0.0\n",
        ", 0.333333333333\n",
        ", 0.166666666667\n",
        ", 0.0\n",
        ", 0.0\n",
        ", 0.0\n",
        "},\n",
        "{\n",
        "0.166666666667\n",
        ", 0.166666666667\n",
        ", 0.0\n",
        ", 0.0\n",
        ", 0.166666666667\n",
        ", 0.333333333333\n",
        ", 0.166666666667\n",
        ", 0.0\n",
        ", 0.0\n",
        "},\n",
        "{\n",
        "0.0\n",
        ", 0.0833333333333\n",
        ", 0.0833333333333\n",
        ", 0.166666666667\n",
        ", 0.0\n",
        ", 0.0833333333333\n",
        ", 0.333333333333\n",
        ", 0.0833333333333\n",
        ", 0.166666666667\n",
        "},\n",
        "{\n",
        "0.0\n",
        ", 0.222222222222\n",
        ", 0.111111111111\n",
        ", 0.0\n",
        ", 0.0\n",
        ", 0.0\n",
        ", 0.111111111111\n",
        ", 0.333333333333\n",
        ", 0.222222222222\n",
        "},\n",
        "{\n",
        "0.0\n",
        ", 0.111111111111\n",
        ", 0.0\n",
        ", 0.111111111111\n",
        ", 0.0\n",
        ", 0.0\n",
        ", 0.222222222222\n",
        ", 0.222222222222\n",
        ", 0.333333333333\n",
        "},\n",
        "}\n"
       ]
      }
     ],
     "prompt_number": 9
    },
    {
     "cell_type": "code",
     "collapsed": false,
     "input": [
      "old_hg = HG"
     ],
     "language": "python",
     "metadata": {},
     "outputs": [],
     "prompt_number": 64
    },
    {
     "cell_type": "code",
     "collapsed": false,
     "input": [
      "new_hg = HG"
     ],
     "language": "python",
     "metadata": {},
     "outputs": [],
     "prompt_number": 56
    },
    {
     "cell_type": "code",
     "collapsed": false,
     "input": [],
     "language": "python",
     "metadata": {},
     "outputs": []
    }
   ],
   "metadata": {}
  }
 ]
}