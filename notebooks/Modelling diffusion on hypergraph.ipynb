{
 "metadata": {
  "name": "",
  "signature": "sha256:bfb25c0869010431afb55c5e7472ab5688a0a5c7a5407d5a4386d199c21c67a2"
 },
 "nbformat": 3,
 "nbformat_minor": 0,
 "worksheets": [
  {
   "cells": [
    {
     "cell_type": "markdown",
     "metadata": {},
     "source": [
      "\n",
      "W define our hypergraph: \n",
      "$H = \\{V, E\\}$\n",
      "\n"
     ]
    },
    {
     "cell_type": "markdown",
     "metadata": {},
     "source": [
      "In this notebook I introduce two models of hypergraph traversal.\n",
      "\n",
      "First model assumes that we start with the node (white circles) and then choose one of the hyperedges\n",
      "from hyperedges which contain our node. From node we have same probability to go to all nodes which\n",
      "are contained in hyperedge.\n",
      "\n",
      "So for example traversal may look like:\n",
      "- start in node `1`\n",
      "- go to hyperedge `{1, 2, 4}`\n",
      "- choose one of nodes `1, 2, 4` -> `4`\n",
      "\n",
      "and so on.\n",
      "\n",
      "Second model is a bit different. It assumes that the basic unit of traversal is hyperedge.\n",
      "\n",
      "So we can traverse from one hyperedge to another hyperedge having a probability of traversal $j \\rightarrow k$ dependent on nodes that are in both hyperedges."
     ]
    },
    {
     "cell_type": "markdown",
     "metadata": {},
     "source": [
      "Let's begin with first model \n",
      "\n",
      "#Traversing on nodes\n",
      "\n",
      "Every node can be in some hyperedges:\n",
      "\n",
      "$C_{ij} = \\frac{[V_i \\in E_j]} {\\|\\{E_k :\\  V_i \\in E_k \\}\\|}$\n",
      "\n",
      "Every hyperege can have multiple nodes:\n",
      "\n",
      "$D_{ji} = \\frac{[V_j \\in E_i]} {\\| E_i \\|}$\n",
      "\n",
      "$C$ and $D$ are two matricies of sizes (m, n) and (n, m) where:\n",
      "- m - number of nodes\n",
      "- n - number of hyperedges\n",
      "\n",
      "We can define probabilities of travering from any node to any other node $A$ by\n",
      "product of the two.\n",
      "\n",
      "$A = DC$"
     ]
    },
    {
     "cell_type": "markdown",
     "metadata": {},
     "source": [
      "$C(j \\rightarrow i) = \\frac{I_{c_i}(j)}{\\|\\{E_k :\\  V_i \\in E_k \\}\\|}$\n",
      "\n",
      "$D(i \\rightarrow j) = \\frac{I_{E_j}(i)} {\\| E_i \\|}$"
     ]
    },
    {
     "cell_type": "markdown",
     "metadata": {},
     "source": [
      "###Probability of going from node j to k\n",
      "\n",
      "$P(j \\rightarrow k) = \\sum\\limits_{i=1}^{n}{\\frac{I_{c_i}(j)}{\\|\\{E_k :\\  V_i \\in E_k \\}\\|}}\\ \\frac{I_{E_i}(k)}{|E_i|}$"
     ]
    },
    {
     "cell_type": "markdown",
     "metadata": {},
     "source": [
      "$P(j \\rightarrow k) = \\frac{\\gamma(j \\rightarrow k)} {\\Phi_k}$"
     ]
    },
    {
     "cell_type": "markdown",
     "metadata": {},
     "source": [
      "This should result from ergodicity of probability distribution of traversal.\n",
      "\n",
      "$\\sum\\limits_{j=1}^{m}P(j \\rightarrow k) \\pi_j = \\pi_k$\n",
      "\n",
      "$\\Phi_k = \\sum\\limits_{j=1}^{m} \\gamma(j \\rightarrow k)$ \n",
      "\n",
      "$\\nu_n = \\frac{\\pi_n}{\\Phi_n}$\n",
      "\n",
      "$\\sum\\limits_{j=1}^{m} \\frac{\\gamma(j \\rightarrow k)} {\\Phi_j} \\pi_j = \\pi_k =  \\Phi_n \\frac{\\pi_n}{\\Phi_n}$\n",
      "$\\sum\\limits_{j=1}^{m} \\gamma(j \\rightarrow k) \\nu_j  = \\Phi_k \\nu_k = \\sum\\limits_{l=1}^{m} \\gamma(k \\rightarrow l) \\nu_k = \\sum\\limits_{j=1}^{m} \\gamma(k \\rightarrow j) \\nu_k$\n",
      "\n",
      "\n",
      "\n",
      "$\\sum\\limits_{j=1}^{m} (\\gamma(j \\rightarrow k) \\nu_j - \\gamma(k \\rightarrow j) \\nu_k )= 0$\n",
      "\n",
      "In special case:\n",
      "\n",
      "$\\gamma(j \\rightarrow k) \\nu_j = \\gamma(k \\rightarrow j) \\nu_k$\n",
      "\n",
      "$\\nu_j = \\frac{\\gamma(k \\rightarrow j)}{\\gamma(j \\rightarrow k)} \\nu_k$\n",
      "\n",
      "$\\gamma(j \\rightarrow k)  = \\gamma(k \\rightarrow j) $\n",
      "\n",
      "$\\pi_i = \\frac{\\gamma(k \\rightarrow j)}{\\gamma(j \\rightarrow k)} \\frac{\\Phi_j}{\\Phi_k}\\pi_k =  \\frac{\\Phi_j}{\\Phi_k} \\pi_k $\n",
      "\n",
      "\n",
      "$\\sum\\limits_{i=1}^{m} \\pi_i = 1 \\Rightarrow (\\sum\\limits_{i=1}^{m} \\Phi_i) \\frac{\\pi_k}{\\Phi_k} = 1$\n",
      "\n",
      "$\\pi_k = \\frac{\\Phi_k}{\\sum\\limits_{i=1}^{m}\\Phi_i} =  \\frac{\\|\\{E_p :\\  V_i \\in E_p \\}\\|} {\\sum\\limits_{i=1}^{m} \\|\\{E_p :\\  V_i \\in E_p \\}\\|}$"
     ]
    },
    {
     "cell_type": "markdown",
     "metadata": {},
     "source": [
      "#Traversing on hyperedges\n",
      "\n",
      "###probability of going from hyper_edge j to k:\n",
      "\n",
      "$P(j \\rightarrow k) = \\sum\\limits_{i=1}^{n}{ \\frac{I_{c_i}(j)}{|E_j|}  \\frac{I_{E_k}(i)}{\\|\\{E_z :\\  V_i \\in E_z \\}\\|}}\\ $\n",
      "\n",
      "$P(j \\rightarrow k) = \\frac{\\gamma(j \\rightarrow k)} {\\Phi_k}$\n",
      "\n",
      "Summing on nodes\n",
      "\n",
      "$\\Phi_k = \\sum\\limits_{j=1}^{n} \\gamma(j \\rightarrow k)$ \n",
      "\n",
      "And by analogy to similar computation on nodes:\n",
      "\n",
      "$\\pi_i = \\frac{\\gamma(k \\rightarrow j)}{\\gamma(j \\rightarrow k)} \\frac{\\Phi_j}{\\Phi_k}\\pi_k =  \\frac{\\Phi_j}{\\Phi_k} \\pi_k $"
     ]
    },
    {
     "cell_type": "markdown",
     "metadata": {},
     "source": [
      "$\\sum\\limits_{i=1}^{m} \\pi_i = 1 \\Rightarrow (\\sum\\limits_{i=1}^{m} \\Phi_i) \\frac{\\pi_k}{\\Phi_k} = 1$\n",
      "\n",
      "\n",
      "###Resulting probability\n",
      "\n",
      "$\\pi_k = \\frac{\\|\\{V_i :\\  V_i \\in E_k \\} \\|} {\\sum\\limits_{i=1}^{n}{ \\|\\{V_z :\\  V_Z \\in E_i \\} \\|}   } $"
     ]
    },
    {
     "cell_type": "markdown",
     "metadata": {},
     "source": [
      "##Below are numerical solutions simulations based on former models."
     ]
    },
    {
     "cell_type": "code",
     "collapsed": false,
     "input": [
      "%matplotlib inline"
     ],
     "language": "python",
     "metadata": {},
     "outputs": [],
     "prompt_number": 1
    },
    {
     "cell_type": "code",
     "collapsed": false,
     "input": [
      "from hypergraph import generators\n",
      "from hypergraph.analytical import prediction"
     ],
     "language": "python",
     "metadata": {},
     "outputs": [],
     "prompt_number": 2
    },
    {
     "cell_type": "code",
     "collapsed": false,
     "input": [
      "import numpy as np\n",
      "from matplotlib import pyplot as plt\n",
      "from IPython.html.widgets import interact\n"
     ],
     "language": "python",
     "metadata": {},
     "outputs": [],
     "prompt_number": 3
    },
    {
     "cell_type": "code",
     "collapsed": false,
     "input": [
      "HG = generators.generic_hypergraph(5, ((2, 2), (3, 2)))"
     ],
     "language": "python",
     "metadata": {},
     "outputs": [],
     "prompt_number": 4
    },
    {
     "cell_type": "code",
     "collapsed": false,
     "input": [
      "from hypergraph.markov_diffusion import create_markov_matrix_model_nodes\n"
     ],
     "language": "python",
     "metadata": {},
     "outputs": [],
     "prompt_number": 5
    },
    {
     "cell_type": "code",
     "collapsed": false,
     "input": [
      "from hypergraph.diffusion_engine import DiffusionEngine\n",
      "from hypergraph import utils\n",
      "from functools import partial"
     ],
     "language": "python",
     "metadata": {},
     "outputs": [],
     "prompt_number": 6
    },
    {
     "cell_type": "code",
     "collapsed": false,
     "input": [
      "np.array([1, 2, 3], dtype='float')"
     ],
     "language": "python",
     "metadata": {},
     "outputs": [
      {
       "metadata": {},
       "output_type": "pyout",
       "prompt_number": 7,
       "text": [
        "array([ 1.,  2.,  3.])"
       ]
      }
     ],
     "prompt_number": 7
    },
    {
     "cell_type": "code",
     "collapsed": false,
     "input": [
      "from hypergraph.markov_diffusion import create_markov_matrix_model_hyper_edges"
     ],
     "language": "python",
     "metadata": {},
     "outputs": [],
     "prompt_number": 8
    },
    {
     "cell_type": "code",
     "collapsed": false,
     "input": [
      "def hypergraph_analytical_edges(HG):\n",
      "    phis = []\n",
      "    number_of_nodes = len(HG.nodes())\n",
      "    all_phis = 0\n",
      "    for edge in HG.hyper_edges():\n",
      "        phis.append(len(edge))\n",
      "        all_phis += len(edge)\n",
      "    \n",
      "    pis = [phi / all_phis for phi in phis]\n",
      "    return pis"
     ],
     "language": "python",
     "metadata": {},
     "outputs": [],
     "prompt_number": 9
    },
    {
     "cell_type": "code",
     "collapsed": false,
     "input": [
      "HG = None\n",
      "def create(n=(5,30), m=(5,30), k=(1,10), plot=False):\n",
      "    global HG\n",
      "    HG = generators.uniform_hypergraph(n, m, k)\n",
      "    \n",
      "    if plot:\n",
      "        utils.plot_different_representations(HG.nodes(), HG.hyper_edges())\n",
      "\n",
      "    return HG"
     ],
     "language": "python",
     "metadata": {},
     "outputs": [],
     "prompt_number": 10
    },
    {
     "cell_type": "code",
     "collapsed": false,
     "input": [
      "from numpy import linalg as LA\n",
      "\n",
      "def compare(t_max=(1000, 1000000),\n",
      "            number_of_walkers=(1, 100),\n",
      "            model={\"node\": {\"analytical\": partial(prediction, model='hypergraph'),\n",
      "                            \"numerical\": create_markov_matrix_model_nodes,\n",
      "                            \"name\": \"node\",\n",
      "                            },\n",
      "                   \"hyperedges\": {\"analytical\": hypergraph_analytical_edges,\n",
      "                                  \"numerical\": create_markov_matrix_model_hyper_edges,\n",
      "                                  \"name\": \"hyperedges\",\n",
      "                                  }\n",
      "                   }):\n",
      "    \n",
      "    markov_matrix = model[\"numerical\"](HG)\n",
      "    engine = DiffusionEngine(markov_matrix, t_per_walker=int(t_max / number_of_walkers))\n",
      "    \n",
      "    freqs_matrix = LA.matrix_power(markov_matrix, 20)[0]\n",
      "    frequencies, states = engine.simulate(t_max)\n",
      "    connected_elements = [freq[0] + 1 for freq in frequencies]\n",
      "    \n",
      "    if model['name'] == \"node\":\n",
      "        missing_nodes = set(HG.nodes()) - set(connected_elements)\n",
      "        print(\"missing nodes\", missing_nodes)\n",
      "        for missing_node in missing_nodes:\n",
      "            frequencies.append((missing_node, 0))\n",
      "\n",
      "        \n",
      "    frequencies = [(node, frequency) for node, frequency in frequencies]\n",
      "    frequencies.sort(key=lambda x: x[0])\n",
      "    xs, ys = zip(*frequencies)\n",
      "    \n",
      "    ys = np.array(ys, dtype='float')\n",
      "    ys /= sum(ys)\n",
      "    width = 0.2  \n",
      "\n",
      "    print(len(xs), len(ys))\n",
      "    ys_prediction = model[\"analytical\"](HG)\n",
      "    \n",
      "    print(xs)\n",
      "    print(ys)\n",
      "    print(len(ys_prediction))\n",
      "    plt.figure(figsize=(10, 8))\n",
      "    plt.bar(xs, ys, width=width, color='crimson', label='Simulated')\n",
      "    \n",
      "    plt.bar(np.array(xs) + width, freqs_matrix, width=width, color='gray', label='Traversal matrix to N')\n",
      "    \n",
      "    plt.bar(np.array(xs) + 2 * width, ys_prediction, width=width, color='purple', label='Analytical')\n",
      "    plt.legend(loc=0)\n",
      "    plt.title(\"Comparison after %s iterations with %s walkers\" % (t_max, number_of_walkers))"
     ],
     "language": "python",
     "metadata": {},
     "outputs": [],
     "prompt_number": 11
    },
    {
     "cell_type": "code",
     "collapsed": false,
     "input": [
      "interact(create)"
     ],
     "language": "python",
     "metadata": {},
     "outputs": [
      {
       "metadata": {},
       "output_type": "pyout",
       "prompt_number": 12,
       "text": [
        "<function __main__.create>"
       ]
      }
     ],
     "prompt_number": 12
    },
    {
     "cell_type": "code",
     "collapsed": false,
     "input": [
      "HG = generators.generic_hypergraph(12, ((3, 2), (4, 3), (5, 5)))\n",
      "print(HG.hyper_edges())"
     ],
     "language": "python",
     "metadata": {},
     "outputs": [
      {
       "output_type": "stream",
       "stream": "stdout",
       "text": [
        "[{10, 11, 4}, {1, 2, 3}, {8, 3, 11, 7}, {8, 1, 10, 3}, {1, 10, 11, 12}, {8, 1, 9, 4, 7}, {8, 9, 10, 1, 11}, {8, 1, 9, 6, 7}, {8, 9, 4, 12, 5}, {9, 10, 11, 4, 7}]\n"
       ]
      }
     ],
     "prompt_number": 13
    },
    {
     "cell_type": "code",
     "collapsed": false,
     "input": [
      "interact(compare);"
     ],
     "language": "python",
     "metadata": {},
     "outputs": [
      {
       "output_type": "stream",
       "stream": "stdout",
       "text": [
        "10 10\n",
        "(0, 1, 2, 3, 4, 5, 6, 7, 8, 9)\n",
        "[ 0.06932667  0.06951249  0.09281119  0.09299301  0.09263536  0.11618981\n",
        "  0.11690509  0.11640759  0.11656943  0.11664935]\n",
        "10\n"
       ]
      },
      {
       "metadata": {},
       "output_type": "display_data",
       "png": "[encoded data removed]",
       "text": [
        "<matplotlib.figure.Figure at 0x7ff335c01208>"
       ]
      }
     ],
     "prompt_number": 14
    },
    {
     "cell_type": "markdown",
     "metadata": {},
     "source": [
      "#TODO \n",
      "\n",
      " - Model entropy changes\n",
      " - inspect what is the best way to model entropy changes in the system"
     ]
    },
    {
     "cell_type": "code",
     "collapsed": false,
     "input": [
      "from hypergraph import converters\n",
      "import networkx as nx\n",
      "from hypergraph.utils import (\n",
      "    plot_bipartite_graph,\n",
      "    hypergraph_to_bipartite_parts\n",
      ")\n",
      "\n",
      "\n",
      "def test_connected(HG):\n",
      "    nodes = HG.nodes()\n",
      "    hyper_edges = HG.hyper_edges()\n",
      "    custom_hyper_g = converters.convert_to_custom_hyper_G(nodes, hyper_edges)\n",
      "    \n",
      "    nodes_in_hyperedges = set()\n",
      "    for hyper_edge in hyper_edges:\n",
      "        nodes_in_hyperedges |= hyper_edge\n",
      "    \n",
      "    is_every_node_in_edge = not bool(set(nodes) - nodes_in_hyperedges)\n",
      "            \n",
      "    return nx.is_connected(HG) and is_every_node_in_edge"
     ],
     "language": "python",
     "metadata": {},
     "outputs": [],
     "prompt_number": 15
    },
    {
     "cell_type": "code",
     "collapsed": false,
     "input": [
      "test_connected(HG)"
     ],
     "language": "python",
     "metadata": {},
     "outputs": [
      {
       "metadata": {},
       "output_type": "pyout",
       "prompt_number": 16,
       "text": [
        "True"
       ]
      }
     ],
     "prompt_number": 16
    },
    {
     "cell_type": "code",
     "collapsed": false,
     "input": [
      "from collections import Counter\n",
      "from collections import defaultdict\n",
      "import random \n",
      "from hypergraph.generators import generic_hypergraph\n",
      "\n",
      "\n",
      "HG = generic_hypergraph(6, ((2, 3), (3, 4), (4, 2)))\n",
      "\n",
      "def observe_one_node(t_max=(100, 5000),\n",
      "                number_of_walkers=(1, 10),\n",
      "                node=(1, 10),\n",
      "                offset=(10, 1000),\n",
      "                first_plotted=(1, 5),\n",
      "                show_all=False):\n",
      "\n",
      "    markov_matrix = create_markov_matrix_model_hyper_edges(HG)\n",
      "    \n",
      "    freqs = np.zeros(len(markov_matrix))\n",
      "    probabilities = defaultdict(list)\n",
      "    simulation_times = defaultdict(list)\n",
      "\n",
      "    chosen_states = []\n",
      "    number_of_nodes = len(markov_matrix)\n",
      "\n",
      "    for x in range(10, t_max, offset):\n",
      "        engine = DiffusionEngine(markov_matrix)\n",
      "        frequencies, states = engine.simulate(offset)\n",
      "\n",
      "        c = Counter(states[0])\n",
      "\n",
      "        for node in c.keys():\n",
      "            freqs[node] += c[node]\n",
      "            probabilities[node].append(freqs[node] / x)\n",
      "            simulation_times[node].append(x)\n",
      "\n",
      "        chosen_states += states[0]\n",
      "\n",
      "    if show_all:\n",
      "        for node in probabilities.keys():\n",
      "            plt.figure(figsize=(10, 8))\n",
      "            plt.title(\"Node: %s\" % node)\n",
      "            plt.plot(simulation_times[node][first_plotted:], probabilities[node][first_plotted:], color='crimson', label='Simulated')\n",
      "\n",
      "    last_probs = np.zeros(number_of_nodes)\n",
      "    for node, probability in probabilities.items():\n",
      "        last_probs[node -1] = probability[-1]\n",
      "    \n",
      "    plt.figure(figsize=(10, 8))\n",
      "    plt.bar(range(len(HG.hyper_edges())), last_probs)\n",
      "    plt.title(\"Probabilities after %d iterations and offset %d\" % (t_max, offset))\n"
     ],
     "language": "python",
     "metadata": {},
     "outputs": [],
     "prompt_number": 17
    },
    {
     "cell_type": "code",
     "collapsed": false,
     "input": [
      "interact(observe_one_node)"
     ],
     "language": "python",
     "metadata": {},
     "outputs": [
      {
       "metadata": {},
       "output_type": "pyout",
       "prompt_number": 18,
       "text": [
        "<function __main__.observe_one_node>"
       ]
      },
      {
       "metadata": {},
       "output_type": "display_data",
       "png": "[encoded data removed]",
       "text": [
        "<matplotlib.figure.Figure at 0x7ff3416a1ac8>"
       ]
      }
     ],
     "prompt_number": 18
    },
    {
     "cell_type": "code",
     "collapsed": false,
     "input": [],
     "language": "python",
     "metadata": {},
     "outputs": [],
     "prompt_number": 18
    },
    {
     "cell_type": "code",
     "collapsed": false,
     "input": [
      "from hypergraph.markov_diffusion import count_nodes\n",
      "from itertools import chain\n",
      "from collections import Counter\n",
      "import numpy as np\n",
      "from matplotlib import pyplot as plt\n",
      "\n",
      "from collections import Counter\n",
      "from itertools import chain\n",
      "from hypergraph import utils\n",
      "from hypergraph.markov_diffusion import (create_markov_matrix,\n",
      "                                         count_nodes)\n",
      "\n",
      "def entropy(pis):\n",
      "        return -np.dot(np.log(pis), pis)\n",
      "    \n",
      "\n",
      "def compare_entropy(t_max=(9900, 10000), number_of_walkers=(1, 10), window_size=(5, 200)):\n",
      "    markov_matrix = create_markov_matrix_model_nodes(HG)\n",
      "    \n",
      "    engine = DiffusionEngine(markov_matrix, t_per_walker=int(t_max / number_of_walkers))\n",
      "\n",
      "    nodes = HG.nodes()\n",
      "    edges = HG.hyper_edges()\n",
      "    most_common, states = engine.simulate(t_max)\n",
      "\n",
      "    states_per_time = list(zip(*states))\n",
      "    \n",
      "    \n",
      "    xs = list(range(0, len(states_per_time), window_size))\n",
      "    ys = []\n",
      "    for i in xs:\n",
      "        try:\n",
      "            cum_states = chain(*states_per_time[i-window_size:i])\n",
      "            most_common = Counter(cum_states).most_common()\n",
      "\n",
      "            most_common_nodes = count_nodes(nodes, edges, most_common)\n",
      "            frequencies = (utils.get_names_and_occurrences(most_common_nodes)[1])\n",
      "            entropy_value = entropy(frequencies)\n",
      "            if entropy_value is not float(\"nan\"):\n",
      "                ys.append(entropy_value)\n",
      "            else:\n",
      "                ys.append(-1)\n",
      "        except ZeroDivisionError:\n",
      "            ys.append(0)\n",
      "        except:\n",
      "            import traceback\n",
      "            traceback.print_exc()\n",
      "            ys.append(0)\n",
      "    \n",
      "    plt.figure(figsize=(14, 6))\n",
      "    fig = plt.plot(xs, ys)\n",
      "    plt.title(\"Entropy with t_max=%s, walkers=%s, window_size=%s\" % (t_max, number_of_walkers, window_size))\n",
      "    plt.show()\n",
      "    return fig"
     ],
     "language": "python",
     "metadata": {},
     "outputs": [],
     "prompt_number": 19
    },
    {
     "cell_type": "code",
     "collapsed": false,
     "input": [
      "interact(compare_entropy)"
     ],
     "language": "python",
     "metadata": {},
     "outputs": [
      {
       "metadata": {},
       "output_type": "display_data",
       "png": "[encoded data removed]",
       "text": [
        "<matplotlib.figure.Figure at 0x7ff3349d3f98>"
       ]
      },
      {
       "metadata": {},
       "output_type": "pyout",
       "prompt_number": 20,
       "text": [
        "<function __main__.compare_entropy>"
       ]
      }
     ],
     "prompt_number": 20
    },
    {
     "cell_type": "code",
     "collapsed": false,
     "input": [],
     "language": "python",
     "metadata": {},
     "outputs": []
    }
   ],
   "metadata": {}
  }
 ]
}