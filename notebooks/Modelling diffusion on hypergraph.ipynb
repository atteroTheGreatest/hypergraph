{
 "metadata": {
  "name": "",
  "signature": "sha256:c44180583711dfe8219036358aa536141c493647f21fe037b9118cab8e2fb88e"
 },
 "nbformat": 3,
 "nbformat_minor": 0,
 "worksheets": [
  {
   "cells": [
    {
     "cell_type": "markdown",
     "metadata": {},
     "source": [
      "#Theoretical modelling of ergodic probabilities of visiting a node\n",
      "W define our hypergraph: \n",
      "\n",
      "$H = \\{V, E\\}$\n",
      "\n",
      "\n",
      "Every node can be in some hyperedges:\n",
      "\n",
      "$C_{ij} = \\frac{[V_i \\in E_j]} {\\|\\{E_k :\\  V_i \\in E_k \\}\\|}$\n",
      "\n",
      "Every hyperege can have multiple nodes:\n",
      "\n",
      "$D_{ij} = \\frac{[V_j \\in E_i]} {\\| E_i \\|}$\n",
      "\n",
      "$A = DC$\n",
      "\n"
     ]
    },
    {
     "cell_type": "markdown",
     "metadata": {},
     "source": [
      "$C(j \\rightarrow i) = \\frac{I_{c_i}(j)}{\\|\\{E_k :\\  V_i \\in E_k \\}\\|}$\n",
      "\n",
      "$D(i \\rightarrow j) = \\frac{I_{c_j}(i)} {\\| E_i \\|}$"
     ]
    },
    {
     "cell_type": "markdown",
     "metadata": {},
     "source": [
      "We can define probability of going from node j to k as:\n",
      "\n",
      "$P(j \\rightarrow k) = \\sum\\limits_{i=1}^{n}{\\frac{I_{c_i}(j)}{\\|\\{E_k :\\  V_i \\in E_k \\}\\|}}\\ \\frac{I_{c_i}(k)}{|E_k|}$"
     ]
    },
    {
     "cell_type": "markdown",
     "metadata": {},
     "source": [
      "$P(j \\rightarrow k) = \\frac{\\gamma(j \\rightarrow k)} {\\Phi_j}$"
     ]
    },
    {
     "cell_type": "markdown",
     "metadata": {},
     "source": [
      "$\\sum\\limits_{j=1}^{m}P(j \\rightarrow k) \\pi_j = \\pi_k$\n",
      "\n",
      "$\\Phi_j = \\sum\\limits_{j=1}^{m} \\gamma(j \\rightarrow k)$ \n",
      "\n",
      "$\\nu_n = \\frac{\\pi_n}{\\Phi_n}$\n",
      "\n",
      "$\\sum\\limits_{j=1}^{m} \\frac{\\gamma(j \\rightarrow k)} {\\Phi_j} \\pi_j = \\pi_k =  \\Phi_n \\frac{\\pi_n}{\\Phi_n}$\n",
      "$\\sum\\limits_{j=1}^{m} \\gamma(j \\rightarrow k) \\nu_j  = \\Phi_k \\nu_k = \\sum\\limits_{l=1}^{m} \\gamma(k \\rightarrow l) \\nu_k = \\sum\\limits_{j=1}^{m} \\gamma(k \\rightarrow j) \\nu_k$\n",
      "\n",
      "\n",
      "\n",
      "$\\sum\\limits_{j=1}^{m} (\\gamma(j \\rightarrow k) \\nu_j - \\gamma(k \\rightarrow j) \\nu_k )= 0$\n",
      "\n",
      "In special case:\n",
      "\n",
      "$\\gamma(j \\rightarrow k) \\nu_j = \\gamma(k \\rightarrow j) \\nu_k$\n",
      "\n",
      "$\\nu_j = \\frac{\\gamma(k \\rightarrow j)}{\\gamma(j \\rightarrow k)} \\nu_k$\n",
      "\n",
      "$\\gamma(j \\rightarrow k)  = \\gamma(k \\rightarrow j) $\n",
      "\n",
      "$\\pi_i = \\frac{\\gamma(k \\rightarrow j)}{\\gamma(j \\rightarrow k)} \\frac{\\Phi_j}{\\Phi_k}\\pi_k =  \\frac{\\Phi_j}{\\Phi_k} \\pi_k $\n",
      "\n",
      "\n",
      "$\\sum\\limits_{i=1}^{m} \\pi_i = 1 \\Rightarrow (\\sum\\limits_{i=1}^{m} \\Phi_i) \\frac{\\pi_k}{\\Phi_k} = 1$\n",
      "\n",
      "$\\pi_k = \\frac{\\Phi_k}{\\sum\\limits_{i=1}^{m}\\Phi_i} =  \\frac{\\|\\{E_p :\\  V_i \\in E_p \\}\\|} {\\sum\\limits_{i=1}^{m} \\|\\{E_p :\\  V_i \\in E_p \\}\\|}$"
     ]
    },
    {
     "cell_type": "code",
     "collapsed": false,
     "input": [
      "from hypergraph import generators"
     ],
     "language": "python",
     "metadata": {},
     "outputs": [],
     "prompt_number": 105
    },
    {
     "cell_type": "code",
     "collapsed": false,
     "input": [
      "HG = generators.generic_hypergraph(5, ((2, 1), (3, 2)))"
     ],
     "language": "python",
     "metadata": {},
     "outputs": [],
     "prompt_number": 106
    },
    {
     "cell_type": "code",
     "collapsed": false,
     "input": [
      "HG.hyper_edges()"
     ],
     "language": "python",
     "metadata": {},
     "outputs": [
      {
       "metadata": {},
       "output_type": "pyout",
       "prompt_number": 107,
       "text": [
        "[{3, 5}, {1, 2, 3}, {2, 3, 4}]"
       ]
      }
     ],
     "prompt_number": 107
    },
    {
     "cell_type": "code",
     "collapsed": false,
     "input": [
      "import numpy as np\n",
      "\n",
      "number_of_nodes = len(HG.nodes())\n",
      "markov_matrix = np.zeros((number_of_nodes, number_of_nodes))\n",
      "\n",
      "for node in HG.nodes():\n",
      "    \n",
      "    for edge in [edge for edge in HG.hyper_edges() if node in edge]:\n",
      "        for node_2 in edge:\n",
      "            cardinality = len(edge)\n",
      "            markov_matrix[node -1, node_2 - 1] += 1 / cardinality\n",
      "    \n",
      "    \n",
      "    markov_matrix[node - 1] /= sum(markov_matrix[node - 1])\n",
      "markov_matrix"
     ],
     "language": "python",
     "metadata": {},
     "outputs": [
      {
       "metadata": {},
       "output_type": "pyout",
       "prompt_number": 108,
       "text": [
        "array([[ 0.33333333,  0.33333333,  0.33333333,  0.        ,  0.        ],\n",
        "       [ 0.16666667,  0.33333333,  0.33333333,  0.16666667,  0.        ],\n",
        "       [ 0.11111111,  0.22222222,  0.38888889,  0.11111111,  0.16666667],\n",
        "       [ 0.        ,  0.33333333,  0.33333333,  0.33333333,  0.        ],\n",
        "       [ 0.        ,  0.        ,  0.5       ,  0.        ,  0.5       ]])"
       ]
      }
     ],
     "prompt_number": 108
    },
    {
     "cell_type": "code",
     "collapsed": false,
     "input": [
      "markov_matrix[0]"
     ],
     "language": "python",
     "metadata": {},
     "outputs": [
      {
       "metadata": {},
       "output_type": "pyout",
       "prompt_number": 109,
       "text": [
        "array([ 0.33333333,  0.33333333,  0.33333333,  0.        ,  0.        ])"
       ]
      }
     ],
     "prompt_number": 109
    },
    {
     "cell_type": "code",
     "collapsed": false,
     "input": [
      "from hypergraph.diffusion_engine import DiffusionEngine"
     ],
     "language": "python",
     "metadata": {},
     "outputs": [],
     "prompt_number": 110
    },
    {
     "cell_type": "code",
     "collapsed": false,
     "input": [
      "engine = DiffusionEngine(markov_matrix, t_per_walker=100)\n",
      "t_max = 100000"
     ],
     "language": "python",
     "metadata": {},
     "outputs": [],
     "prompt_number": 111
    },
    {
     "cell_type": "code",
     "collapsed": false,
     "input": [
      "frequencies, states = engine.simulate(t_max)\n",
      "print(frequencies)"
     ],
     "language": "python",
     "metadata": {},
     "outputs": [
      {
       "output_type": "stream",
       "stream": "stdout",
       "text": [
        "[(2, 37354), (1, 24993), (4, 12939), (0, 12547), (3, 12167)]\n"
       ]
      }
     ],
     "prompt_number": 112
    },
    {
     "cell_type": "code",
     "collapsed": false,
     "input": [
      "frequencies = [(node, frequency / t_max) for node, frequency in frequencies]"
     ],
     "language": "python",
     "metadata": {},
     "outputs": [],
     "prompt_number": 113
    },
    {
     "cell_type": "code",
     "collapsed": false,
     "input": [
      "xs, ys = zip(*frequencies)\n",
      "print(ys)\n",
      "print(xs)"
     ],
     "language": "python",
     "metadata": {},
     "outputs": [
      {
       "output_type": "stream",
       "stream": "stdout",
       "text": [
        "(0.37354, 0.24993, 0.12939, 0.12547, 0.12167)\n",
        "(2, 1, 4, 0, 3)\n"
       ]
      }
     ],
     "prompt_number": 114
    },
    {
     "cell_type": "code",
     "collapsed": false,
     "input": [
      "%matplotlib inline"
     ],
     "language": "python",
     "metadata": {},
     "outputs": [],
     "prompt_number": 115
    },
    {
     "cell_type": "code",
     "collapsed": false,
     "input": [
      "from matplotlib import pyplot as plt"
     ],
     "language": "python",
     "metadata": {},
     "outputs": [],
     "prompt_number": 116
    },
    {
     "cell_type": "code",
     "collapsed": false,
     "input": [
      "plt.bar(xs, ys)"
     ],
     "language": "python",
     "metadata": {},
     "outputs": [
      {
       "metadata": {},
       "output_type": "pyout",
       "prompt_number": 117,
       "text": [
        "<Container object of 5 artists>"
       ]
      },
      {
       "metadata": {},
       "output_type": "display_data",
       "png": "[encoded data removed]",
       "text": [
        "<matplotlib.figure.Figure at 0x7ff52a7a5450>"
       ]
      }
     ],
     "prompt_number": 117
    },
    {
     "cell_type": "code",
     "collapsed": false,
     "input": [
      "from hypergraph.analytical import prediction"
     ],
     "language": "python",
     "metadata": {},
     "outputs": [],
     "prompt_number": 118
    },
    {
     "cell_type": "code",
     "collapsed": false,
     "input": [
      "ys = prediction(HG, 'hypergraph')"
     ],
     "language": "python",
     "metadata": {},
     "outputs": [],
     "prompt_number": 119
    },
    {
     "cell_type": "code",
     "collapsed": false,
     "input": [
      "plt.bar(HG.nodes(), ys)"
     ],
     "language": "python",
     "metadata": {},
     "outputs": [
      {
       "metadata": {},
       "output_type": "pyout",
       "prompt_number": 120,
       "text": [
        "<Container object of 5 artists>"
       ]
      },
      {
       "metadata": {},
       "output_type": "display_data",
       "png": "[encoded data removed]",
       "text": [
        "<matplotlib.figure.Figure at 0x7ff52a6adf90>"
       ]
      }
     ],
     "prompt_number": 120
    },
    {
     "cell_type": "code",
     "collapsed": false,
     "input": [],
     "language": "python",
     "metadata": {},
     "outputs": []
    }
   ],
   "metadata": {}
  }
 ]
}