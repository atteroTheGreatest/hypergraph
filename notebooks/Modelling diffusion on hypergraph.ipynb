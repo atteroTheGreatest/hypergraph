{
 "metadata": {
  "name": "",
  "signature": "sha256:babb6dc677d7ec82ee407b67f77e75ef1f8fd04a94a4aa8f598d4be14a837f17"
 },
 "nbformat": 3,
 "nbformat_minor": 0,
 "worksheets": [
  {
   "cells": [
    {
     "cell_type": "markdown",
     "metadata": {},
     "source": [
      "#Theoretical modelling of ergodic probabilities of visiting a node\n",
      "W define our hypergraph: \n",
      "\n",
      "$H = \\{V, E\\}$\n",
      "\n",
      "\n",
      "Every node can be in some hyperedges:\n",
      "\n",
      "$C_{ij} = \\frac{[V_i \\in E_j]} {\\|\\{E_k :\\  V_i \\in E_k \\}\\|}$\n",
      "\n",
      "Every hyperege can have multiple nodes:\n",
      "\n",
      "$D_{ij} = \\frac{[V_j \\in E_i]} {\\| E_i \\|}$\n",
      "\n",
      "$A = DC$\n",
      "\n"
     ]
    },
    {
     "cell_type": "markdown",
     "metadata": {},
     "source": [
      "$C(j \\rightarrow i) = \\frac{I_{c_i}(j)}{\\|\\{E_k :\\  V_i \\in E_k \\}\\|}$\n",
      "\n",
      "$D(i \\rightarrow j) = \\frac{I_{E_j}(i)} {\\| E_i \\|}$"
     ]
    },
    {
     "cell_type": "markdown",
     "metadata": {},
     "source": [
      "We can define probability of going from node j to k as:\n",
      "\n",
      "$P(j \\rightarrow k) = \\sum\\limits_{i=1}^{n}{\\frac{I_{c_i}(j)}{\\|\\{E_k :\\  V_i \\in E_k \\}\\|}}\\ \\frac{I_{E_i}(k)}{|E_i|}$"
     ]
    },
    {
     "cell_type": "markdown",
     "metadata": {},
     "source": [
      "$P(j \\rightarrow k) = \\frac{\\gamma(j \\rightarrow k)} {\\Phi_k}$"
     ]
    },
    {
     "cell_type": "markdown",
     "metadata": {},
     "source": [
      "$\\sum\\limits_{j=1}^{m}P(j \\rightarrow k) \\pi_j = \\pi_k$\n",
      "\n",
      "$\\Phi_k = \\sum\\limits_{j=1}^{m} \\gamma(j \\rightarrow k)$ \n",
      "\n",
      "$\\nu_n = \\frac{\\pi_n}{\\Phi_n}$\n",
      "\n",
      "$\\sum\\limits_{j=1}^{m} \\frac{\\gamma(j \\rightarrow k)} {\\Phi_j} \\pi_j = \\pi_k =  \\Phi_n \\frac{\\pi_n}{\\Phi_n}$\n",
      "$\\sum\\limits_{j=1}^{m} \\gamma(j \\rightarrow k) \\nu_j  = \\Phi_k \\nu_k = \\sum\\limits_{l=1}^{m} \\gamma(k \\rightarrow l) \\nu_k = \\sum\\limits_{j=1}^{m} \\gamma(k \\rightarrow j) \\nu_k$\n",
      "\n",
      "\n",
      "\n",
      "$\\sum\\limits_{j=1}^{m} (\\gamma(j \\rightarrow k) \\nu_j - \\gamma(k \\rightarrow j) \\nu_k )= 0$\n",
      "\n",
      "In special case:\n",
      "\n",
      "$\\gamma(j \\rightarrow k) \\nu_j = \\gamma(k \\rightarrow j) \\nu_k$\n",
      "\n",
      "$\\nu_j = \\frac{\\gamma(k \\rightarrow j)}{\\gamma(j \\rightarrow k)} \\nu_k$\n",
      "\n",
      "$\\gamma(j \\rightarrow k)  = \\gamma(k \\rightarrow j) $\n",
      "\n",
      "$\\pi_i = \\frac{\\gamma(k \\rightarrow j)}{\\gamma(j \\rightarrow k)} \\frac{\\Phi_j}{\\Phi_k}\\pi_k =  \\frac{\\Phi_j}{\\Phi_k} \\pi_k $\n",
      "\n",
      "\n",
      "$\\sum\\limits_{i=1}^{m} \\pi_i = 1 \\Rightarrow (\\sum\\limits_{i=1}^{m} \\Phi_i) \\frac{\\pi_k}{\\Phi_k} = 1$\n",
      "\n",
      "$\\pi_k = \\frac{\\Phi_k}{\\sum\\limits_{i=1}^{m}\\Phi_i} =  \\frac{\\|\\{E_p :\\  V_i \\in E_p \\}\\|} {\\sum\\limits_{i=1}^{m} \\|\\{E_p :\\  V_i \\in E_p \\}\\|}$"
     ]
    },
    {
     "cell_type": "markdown",
     "metadata": {},
     "source": [
      "We can define probability of going from hyper_edge j to k as:\n",
      "\n",
      "$P(j \\rightarrow k) = \\sum\\limits_{i=1}^{n}{ \\frac{I_{c_i}(j)}{|E_j|}  \\frac{I_{E_k}(i)}{\\|\\{E_z :\\  V_i \\in E_z \\}\\|}}\\ $\n",
      "\n",
      "$P(j \\rightarrow k) = \\frac{\\gamma(j \\rightarrow k)} {\\Phi_k}$\n",
      "\n",
      "Summing on nodes\n",
      "\n",
      "$\\Phi_k = \\sum\\limits_{j=1}^{n} \\gamma(j \\rightarrow k)$ \n",
      "\n",
      "And by analogy to similar computation on nodes:\n",
      "\n",
      "$\\pi_i = \\frac{\\gamma(k \\rightarrow j)}{\\gamma(j \\rightarrow k)} \\frac{\\Phi_j}{\\Phi_k}\\pi_k =  \\frac{\\Phi_j}{\\Phi_k} \\pi_k $\n",
      "\n",
      "\n",
      "$\\sum\\limits_{i=1}^{m} \\pi_i = 1 \\Rightarrow (\\sum\\limits_{i=1}^{m} \\Phi_i) \\frac{\\pi_k}{\\Phi_k} = 1$\n",
      "\n",
      "$\\pi_k = \\frac{\\Phi_k}{ \\sum\\limits_{j=1}^{n}\\Phi_j}$\n",
      "\n",
      "$\\phi_k =\\sum\\limits_{i=1}^{m}{  \\frac{I_{E_k}(i)}{\\|\\{E_z :\\  V_i \\in E_z \\} }   }$\n",
      "\n",
      "$\\sum\\limits_{j=1}^{n} \\phi_j = \\sum\\limits_{j=1}^{n}  \\sum\\limits_{i=1}^{m}{  \\frac{I_{E_j}(i)}{\\|\\{E_z :\\  V_i \\in E_z \\} }   }$\n",
      "\n",
      "\n",
      "$\\pi_k = \\frac{\\sum\\limits_{i=1}^{m}{  \\frac{I_{E_k}(i)}{\\|\\{E_z :\\  V_i \\in E_z \\} }   }}{\\sum\\limits_{j=1}^{n}  \\sum\\limits_{i=1}^{m}{  \\frac{I_{E_j}(i)}{\\|\\{E_z :\\  V_i \\in E_z \\} }   } }$"
     ]
    },
    {
     "cell_type": "code",
     "collapsed": false,
     "input": [
      "from hypergraph import generators"
     ],
     "language": "python",
     "metadata": {},
     "outputs": [],
     "prompt_number": 105
    },
    {
     "cell_type": "code",
     "collapsed": false,
     "input": [
      "HG = generators.generic_hypergraph(5, ((2, 1), (3, 2)))"
     ],
     "language": "python",
     "metadata": {},
     "outputs": [],
     "prompt_number": 206
    },
    {
     "cell_type": "code",
     "collapsed": false,
     "input": [
      "HG.hyper_edges()"
     ],
     "language": "python",
     "metadata": {},
     "outputs": [
      {
       "metadata": {},
       "output_type": "pyout",
       "prompt_number": 207,
       "text": [
        "[{1, 2}, {1, 3, 5}, {1, 4, 5}]"
       ]
      }
     ],
     "prompt_number": 207
    },
    {
     "cell_type": "code",
     "collapsed": false,
     "input": [
      "import numpy as np\n",
      "\n",
      "def create_markov_matrix_n(HG):\n",
      "    number_of_nodes = len(HG.nodes())\n",
      "    markov_matrix = np.zeros((number_of_nodes, number_of_nodes))\n",
      "    \n",
      "    for node in HG.nodes():\n",
      "        \n",
      "        for edge in [edge for edge in HG.hyper_edges() if node in edge]:\n",
      "            for node_2 in edge:\n",
      "                cardinality = len(edge)\n",
      "                markov_matrix[node -1, node_2 - 1] += 1 / cardinality\n",
      "\n",
      "        sum_of_all = sum(markov_matrix[node - 1])\n",
      "        #if sum_of_all:\n",
      "        #    markov_matrix[node - 1] /= sum_of_all\n",
      "    return markov_matrix"
     ],
     "language": "python",
     "metadata": {},
     "outputs": [],
     "prompt_number": 363
    },
    {
     "cell_type": "code",
     "collapsed": false,
     "input": [
      "def create_markov_matrix_n_al(HG):\n",
      "    number_of_nodes = len(HG.nodes())\n",
      "    markov_matrix = np.zeros((number_of_nodes, number_of_nodes))\n",
      "    \n",
      "    for node in HG.nodes():\n",
      "        for node_2 in HG.nodes():\n",
      "            edges_both = [edge for edge in HG.hyper_edges() if node in edge and node_2 in edge]\n",
      "            edges_first = [edge for edge in HG.hyper_edges() if node in edge]\n",
      "            \n",
      "            for edge in edges_both:\n",
      "                markov_matrix[node -1, node_2 - 1] += 1 / len(edge)\n",
      "        if len(edges_both):\n",
      "            markov_matrix[node -1] /= len(edges_first)\n",
      "        \n",
      "    return markov_matrix"
     ],
     "language": "python",
     "metadata": {},
     "outputs": [],
     "prompt_number": 379
    },
    {
     "cell_type": "code",
     "collapsed": false,
     "input": [
      "%matplotlib inline"
     ],
     "language": "python",
     "metadata": {},
     "outputs": [],
     "prompt_number": 376
    },
    {
     "cell_type": "code",
     "collapsed": false,
     "input": [
      "from matplotlib import pyplot as plt"
     ],
     "language": "python",
     "metadata": {},
     "outputs": [],
     "prompt_number": 377
    },
    {
     "cell_type": "code",
     "collapsed": false,
     "input": [
      "markov_matrix = create_markov_matrix_n_al(HG)\n",
      "markov_matrix[0]"
     ],
     "language": "python",
     "metadata": {},
     "outputs": [
      {
       "metadata": {},
       "output_type": "pyout",
       "prompt_number": 381,
       "text": [
        "array([ 0.38888889,  0.16666667,  0.11111111,  0.11111111,  0.22222222])"
       ]
      }
     ],
     "prompt_number": 381
    },
    {
     "cell_type": "code",
     "collapsed": false,
     "input": [
      "from hypergraph.diffusion_engine import DiffusionEngine\n",
      "\n",
      "\n",
      "engine = DiffusionEngine(markov_matrix, t_per_walker=1000)\n",
      "t_max = 100000\n",
      "frequencies, states = engine.simulate(t_max)\n",
      "print(frequencies)\n",
      "frequencies = [(node, frequency / t_max) for node, frequency in frequencies]\n",
      "xs, ys = zip(*frequencies)\n",
      "print(ys)\n",
      "print(xs)"
     ],
     "language": "python",
     "metadata": {},
     "outputs": [
      {
       "output_type": "stream",
       "stream": "stdout",
       "text": [
        "[(0, 37252), (4, 25530), (3, 12668), (2, 12613), (1, 11937)]\n",
        "(0.37252, 0.2553, 0.12668, 0.12613, 0.11937)\n",
        "(0, 4, 3, 2, 1)\n"
       ]
      }
     ],
     "prompt_number": 395
    },
    {
     "cell_type": "code",
     "collapsed": false,
     "input": [
      "plt.bar(xs, ys)"
     ],
     "language": "python",
     "metadata": {},
     "outputs": [
      {
       "metadata": {},
       "output_type": "pyout",
       "prompt_number": 396,
       "text": [
        "<Container object of 5 artists>"
       ]
      },
      {
       "metadata": {},
       "output_type": "display_data",
       "png": "[encoded data removed]",
       "text": [
        "<matplotlib.figure.Figure at 0x7ff528d33590>"
       ]
      }
     ],
     "prompt_number": 396
    },
    {
     "cell_type": "code",
     "collapsed": false,
     "input": [
      "from hypergraph.analytical import prediction"
     ],
     "language": "python",
     "metadata": {},
     "outputs": [],
     "prompt_number": 385
    },
    {
     "cell_type": "code",
     "collapsed": false,
     "input": [
      "ys = prediction(HG, 'hypergraph')\n",
      "print(ys)"
     ],
     "language": "python",
     "metadata": {},
     "outputs": [
      {
       "output_type": "stream",
       "stream": "stdout",
       "text": [
        "[0.375, 0.125, 0.125, 0.125, 0.25]\n"
       ]
      }
     ],
     "prompt_number": 386
    },
    {
     "cell_type": "code",
     "collapsed": false,
     "input": [
      "plt.bar(HG.nodes(), ys)"
     ],
     "language": "python",
     "metadata": {},
     "outputs": [
      {
       "metadata": {},
       "output_type": "pyout",
       "prompt_number": 387,
       "text": [
        "<Container object of 5 artists>"
       ]
      },
      {
       "metadata": {},
       "output_type": "display_data",
       "png": "[encoded data removed]",
       "text": [
        "<matplotlib.figure.Figure at 0x7ff528ec4b10>"
       ]
      }
     ],
     "prompt_number": 387
    },
    {
     "cell_type": "code",
     "collapsed": false,
     "input": [
      "from collections import defaultdict\n",
      "\n",
      "node_edges = np.zeros((len(HG.nodes()), len(HG.hyper_edges())))\n",
      "\n",
      "for node in HG.nodes():\n",
      "    node_edges[node - 1] = np.array([node in edge for edge in HG.hyper_edges()])\n",
      "\n",
      "number_of_edges = len(HG.hyper_edges())\n",
      "markov_matrix = np.zeros((number_of_edges, number_of_edges))\n",
      "\n",
      "for i, edge in enumerate(HG.hyper_edges()):\n",
      "    for node in edge:\n",
      "        for j, contained in enumerate(node_edges[node-1]):\n",
      "            markov_matrix[i, j] += contained / len(edge) / sum([edge for edge in node_edges[node-1] if edge])\n",
      "\n",
      "    sum_of_all = sum(markov_matrix[i])\n",
      "    "
     ],
     "language": "python",
     "metadata": {},
     "outputs": [],
     "prompt_number": 445
    },
    {
     "cell_type": "code",
     "collapsed": false,
     "input": [
      "5 / 18"
     ],
     "language": "python",
     "metadata": {},
     "outputs": [
      {
       "metadata": {},
       "output_type": "pyout",
       "prompt_number": 446,
       "text": [
        "0.2777777777777778"
       ]
      }
     ],
     "prompt_number": 446
    },
    {
     "cell_type": "code",
     "collapsed": false,
     "input": [
      "markov_matrix"
     ],
     "language": "python",
     "metadata": {},
     "outputs": [
      {
       "metadata": {},
       "output_type": "pyout",
       "prompt_number": 447,
       "text": [
        "array([[ 0.66666667,  0.16666667,  0.16666667],\n",
        "       [ 0.11111111,  0.61111111,  0.27777778],\n",
        "       [ 0.11111111,  0.27777778,  0.61111111]])"
       ]
      }
     ],
     "prompt_number": 447
    },
    {
     "cell_type": "code",
     "collapsed": false,
     "input": [
      "from hypergraph.markov_diffusion import create_markov_matrix"
     ],
     "language": "python",
     "metadata": {},
     "outputs": [],
     "prompt_number": 448
    },
    {
     "cell_type": "code",
     "collapsed": false,
     "input": [
      "markov_matrix_2 = create_markov_matrix(HG.hyper_edges(), count_itself=True)\n",
      "print(markov_matrix_2)"
     ],
     "language": "python",
     "metadata": {},
     "outputs": [
      {
       "output_type": "stream",
       "stream": "stdout",
       "text": [
        "[[ 0.33333333  0.33333333  0.33333333]\n",
        " [ 0.25        0.25        0.5       ]\n",
        " [ 0.25        0.5         0.25      ]]\n"
       ]
      }
     ],
     "prompt_number": 449
    },
    {
     "cell_type": "code",
     "collapsed": false,
     "input": [
      "engine = DiffusionEngine(markov_matrix, t_per_walker=1000)\n",
      "t_max = 10000\n",
      "frequencies, states = engine.simulate(t_max)\n",
      "\n",
      "frequencies = [(node, frequency / t_max) for node, frequency in frequencies]\n",
      "print(frequencies)\n",
      "xs, ys = zip(*frequencies)\n",
      "print(ys)\n",
      "print(xs)\n",
      "plt.bar(xs, ys)"
     ],
     "language": "python",
     "metadata": {},
     "outputs": [
      {
       "output_type": "stream",
       "stream": "stdout",
       "text": [
        "[(2, 0.3776), (1, 0.374), (0, 0.2484)]\n",
        "(0.3776, 0.374, 0.2484)\n",
        "(2, 1, 0)\n"
       ]
      },
      {
       "metadata": {},
       "output_type": "pyout",
       "prompt_number": 450,
       "text": [
        "<Container object of 3 artists>"
       ]
      },
      {
       "metadata": {},
       "output_type": "display_data",
       "png": "[encoded data removed]",
       "text": [
        "<matplotlib.figure.Figure at 0x7ff526158a50>"
       ]
      }
     ],
     "prompt_number": 450
    },
    {
     "cell_type": "code",
     "collapsed": false,
     "input": [
      "engine = DiffusionEngine(markov_matrix_2, t_per_walker=100)\n",
      "t_max = 10000\n",
      "frequencies, states = engine.simulate(t_max)\n",
      "print(frequencies)\n",
      "frequencies = [(node, frequency / t_max) for node, frequency in frequencies]\n",
      "print(\"frequencies\")\n",
      "print(frequencies)\n",
      "xs, ys = zip(*frequencies)\n",
      "print(ys)\n",
      "print(xs)\n",
      "plt.bar(xs, ys)"
     ],
     "language": "python",
     "metadata": {},
     "outputs": [
      {
       "output_type": "stream",
       "stream": "stdout",
       "text": [
        "[(1, 3657), (2, 3546), (0, 2797)]\n",
        "frequencies\n",
        "[(1, 0.3657), (2, 0.3546), (0, 0.2797)]\n",
        "(0.3657, 0.3546, 0.2797)\n",
        "(1, 2, 0)\n"
       ]
      },
      {
       "metadata": {},
       "output_type": "pyout",
       "prompt_number": 451,
       "text": [
        "<Container object of 3 artists>"
       ]
      },
      {
       "metadata": {},
       "output_type": "display_data",
       "png": "[encoded data removed]",
       "text": [
        "<matplotlib.figure.Figure at 0x7ff506fd0490>"
       ]
      }
     ],
     "prompt_number": 451
    },
    {
     "cell_type": "code",
     "collapsed": false,
     "input": [
      "from hypergraph.markov_diffusion import count_nodes"
     ],
     "language": "python",
     "metadata": {},
     "outputs": [],
     "prompt_number": 400
    },
    {
     "cell_type": "code",
     "collapsed": false,
     "input": [
      "print(frequencies)\n",
      "most_common_nodes = count_nodes(HG.nodes(), HG.hyper_edges(), frequencies)"
     ],
     "language": "python",
     "metadata": {},
     "outputs": [
      {
       "output_type": "stream",
       "stream": "stdout",
       "text": [
        "[(1, 0.37525), (2, 0.37451), (0, 0.25024)]\n"
       ]
      }
     ],
     "prompt_number": 408
    },
    {
     "cell_type": "code",
     "collapsed": false,
     "input": [
      "from hypergraph import utils"
     ],
     "language": "python",
     "metadata": {},
     "outputs": [],
     "prompt_number": 402
    },
    {
     "cell_type": "code",
     "collapsed": false,
     "input": [
      "utils.plot_nodes_frequencies(most_common_nodes, 'Nodes in a graph')"
     ],
     "language": "python",
     "metadata": {},
     "outputs": [
      {
       "metadata": {},
       "output_type": "display_data",
       "png": "[encoded data removed]",
       "text": [
        "<matplotlib.figure.Figure at 0x7ff528cada50>"
       ]
      },
      {
       "metadata": {},
       "output_type": "pyout",
       "prompt_number": 409,
       "text": [
        "[0.3636681019434423,\n",
        " 0.09100430583032701,\n",
        " 0.13646645525427673,\n",
        " 0.13619734085883858,\n",
        " 0.2726637961131153]"
       ]
      }
     ],
     "prompt_number": 409
    },
    {
     "cell_type": "code",
     "collapsed": false,
     "input": [],
     "language": "python",
     "metadata": {},
     "outputs": [],
     "prompt_number": 245
    },
    {
     "cell_type": "code",
     "collapsed": false,
     "input": [],
     "language": "python",
     "metadata": {},
     "outputs": [],
     "prompt_number": 245
    },
    {
     "cell_type": "code",
     "collapsed": false,
     "input": [
      "3 / 8\n"
     ],
     "language": "python",
     "metadata": {},
     "outputs": [
      {
       "metadata": {},
       "output_type": "pyout",
       "prompt_number": 361,
       "text": [
        "0.375"
       ]
      }
     ],
     "prompt_number": 361
    },
    {
     "cell_type": "markdown",
     "metadata": {},
     "source": [
      "We can define probability of going from edge j to k as:\n",
      "\n",
      "$P(j \\rightarrow k) = \\sum\\limits_{i=1}^{n}{\\frac{I_{c_i}(j)}{\\|\\{E_k :\\  V_i \\in E_k \\}\\|}}\\ \\frac{I_{c_i}(k)}{|E_k|}$"
     ]
    },
    {
     "cell_type": "code",
     "collapsed": false,
     "input": [
      "\n",
      "def compute_phi_k(nodes, edges, edge):\n",
      "    phi_k = 0\n",
      "    for node in [node for node in nodes if node in edge]:\n",
      "        phi_k_node = len(edge)\n",
      "        \n",
      "        phi_k_node /= len([edge for edge in edges if node in edge])\n",
      "        phi_k += phi_k_node\n",
      "    return phi_k\n",
      "\n",
      "\n",
      "def hypergraph_analytical_edges(HG):\n",
      "    phis = []\n",
      "    for edge in HG.hyper_edges():\n",
      "        print(edge)\n",
      "        phi_k = compute_phi_k(HG.nodes(), HG.edges(), edge)\n",
      "        print(phi_k)\n",
      "        phis.append(phi_k)\n",
      "    \n",
      "    sum_of_all_phis = sum(phis)\n",
      "    \n",
      "    pis = [phi_k / sum_of_all_phis for phi_k in phis]\n",
      "    return pis"
     ],
     "language": "python",
     "metadata": {},
     "outputs": [],
     "prompt_number": 443
    },
    {
     "cell_type": "code",
     "collapsed": false,
     "input": [
      "hypergraph_analytical_edges(HG)"
     ],
     "language": "python",
     "metadata": {},
     "outputs": [
      {
       "output_type": "stream",
       "stream": "stdout",
       "text": [
        "{1, 2}\n",
        "2.5\n",
        "{1, 3, 5}\n",
        "3.25\n",
        "{1, 4, 5}\n",
        "3.25\n"
       ]
      },
      {
       "metadata": {},
       "output_type": "pyout",
       "prompt_number": 444,
       "text": [
        "[0.2777777777777778, 0.3611111111111111, 0.3611111111111111]"
       ]
      }
     ],
     "prompt_number": 444
    },
    {
     "cell_type": "code",
     "collapsed": false,
     "input": [],
     "language": "python",
     "metadata": {},
     "outputs": []
    }
   ],
   "metadata": {}
  }
 ]
}