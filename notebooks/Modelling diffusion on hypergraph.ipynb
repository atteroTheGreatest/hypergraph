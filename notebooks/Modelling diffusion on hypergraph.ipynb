{
 "metadata": {
  "name": "",
  "signature": "sha256:fa6c86caa582b2a0e73f9f14e27a6f0f2f44ad716c59adaab3a293042fc11e22"
 },
 "nbformat": 3,
 "nbformat_minor": 0,
 "worksheets": [
  {
   "cells": [
    {
     "cell_type": "markdown",
     "metadata": {},
     "source": [
      "#Theoretical modelling of ergodic probabilities of being in a node\n",
      "W define our hypergraph: \n",
      "\n",
      "$H = \\{V, E\\}$\n",
      "\n",
      "\n",
      "Every node can be in some hyperedges:\n",
      "\n",
      "$C_{ij} = \\frac{[V_i \\in E_j]} {\\|\\{E_k :\\  V_i \\in E_k \\}\\|}$\n",
      "\n",
      "Every hyperege can have multiple nodes:\n",
      "\n",
      "$D_{ij} = \\frac{[V_j \\in E_i]} {\\| E_i \\|}$\n",
      "\n",
      "$A = DC$\n",
      "\n"
     ]
    },
    {
     "cell_type": "markdown",
     "metadata": {},
     "source": [
      "$C(j \\rightarrow i) = \\frac{I_{c_i}(j)}{\\|\\{E_k :\\  V_i \\in E_k \\}\\|}$\n",
      "\n",
      "$D(i \\rightarrow j) = \\frac{I_{c_j}(i)} {\\| E_i \\|}$"
     ]
    },
    {
     "cell_type": "markdown",
     "metadata": {},
     "source": [
      "We can define probability of going from node j to k as:\n",
      "\n",
      "$P(j \\rightarrow k) = \\sum\\limits_{i=1}^{n}{\\frac{I_{c_i}(j)}{\\|\\{E_k :\\  V_i \\in E_k \\}\\|}}\\ \\frac{I_{c_i}(k)}{|E_k|}$"
     ]
    },
    {
     "cell_type": "markdown",
     "metadata": {},
     "source": [
      "$P(j \\rightarrow k) = \\frac{\\gamma(j \\rightarrow k)} {\\Phi_j}$"
     ]
    },
    {
     "cell_type": "markdown",
     "metadata": {},
     "source": [
      "$\\sum\\limits_{j=1}^{m}P(j \\rightarrow k) \\pi_j = \\pi_k$\n",
      "\n",
      "$\\Phi_j = \\sum\\limits_{j=1}^{m} \\gamma(j \\rightarrow k)$ \n",
      "\n",
      "$\\nu_n = \\frac{\\pi_n}{\\Phi_n}$\n",
      "\n",
      "$\\sum\\limits_{j=1}^{m} \\frac{\\gamma(j \\rightarrow k)} {\\Phi_j} \\pi_j = \\pi_k =  \\Phi_n \\frac{\\pi_n}{\\Phi_n}$\n",
      "$\\sum\\limits_{j=1}^{m} \\gamma(j \\rightarrow k) \\nu_j  = \\Phi_k \\nu_k = \\sum\\limits_{l=1}^{m} \\gamma(k \\rightarrow l) \\nu_k = \\sum\\limits_{j=1}^{m} \\gamma(k \\rightarrow j) \\nu_k$\n",
      "\n",
      "\n",
      "\n",
      "$\\sum\\limits_{j=1}^{m} (\\gamma(j \\rightarrow k) \\nu_j - \\gamma(k \\rightarrow j) \\nu_k )= 0$\n",
      "\n",
      "In special case:\n",
      "\n",
      "$\\gamma(j \\rightarrow k) \\nu_j = \\gamma(k \\rightarrow j) \\nu_k$\n",
      "\n",
      "$\\nu_j = \\frac{\\gamma(k \\rightarrow j)}{\\gamma(j \\rightarrow k)} \\nu_k$\n",
      "\n",
      "$\\gamma(j \\rightarrow k)  = \\gamma(k \\rightarrow j) $\n",
      "\n",
      "$\\pi_i = \\frac{\\gamma(k \\rightarrow j)}{\\gamma(j \\rightarrow k)} \\frac{\\Phi_j}{\\Phi_k}\\pi_k =  \\frac{\\Phi_j}{\\Phi_k} \\pi_k $\n",
      "\n",
      "\n",
      "$\\sum\\limits_{i=1}^{m} \\pi_i = 1 \\Rightarrow (\\sum\\limits_{i=1}^{m} \\Phi_i) \\frac{\\pi_k}{\\Phi_k} = 1$\n",
      "\n",
      "$\\pi_k = \\frac{\\Phi_k}{\\sum\\limits_{i=1}^{m}\\Phi_i} =  \\frac{\\|\\{E_p :\\  V_i \\in E_p \\}\\|} {\\sum\\limits_{i=1}^{m} \\|\\{E_p :\\  V_i \\in E_p \\}\\|}$"
     ]
    }
   ],
   "metadata": {}
  }
 ]
}