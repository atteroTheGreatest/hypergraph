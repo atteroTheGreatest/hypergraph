{
 "metadata": {
  "name": "",
  "signature": "sha256:eb8e049b16113bf5fbcafc8942b689c9d655fdea89e4b799ccf7f712390a91d4"
 },
 "nbformat": 3,
 "nbformat_minor": 0,
 "worksheets": [
  {
   "cells": [
    {
     "cell_type": "markdown",
     "metadata": {},
     "source": [
      "#Theoretical modelling of ergodic probabilities of visiting a node\n",
      "W define our hypergraph: \n",
      "\n",
      "$H = \\{V, E\\}$\n",
      "\n",
      "\n",
      "Every node can be in some hyperedges:\n",
      "\n",
      "$C_{ij} = \\frac{[V_i \\in E_j]} {\\|\\{E_k :\\  V_i \\in E_k \\}\\|}$\n",
      "\n",
      "Every hyperege can have multiple nodes:\n",
      "\n",
      "$D_{ij} = \\frac{[V_j \\in E_i]} {\\| E_i \\|}$\n",
      "\n",
      "$A = DC$\n",
      "\n"
     ]
    },
    {
     "cell_type": "markdown",
     "metadata": {},
     "source": [
      "$C(j \\rightarrow i) = \\frac{I_{c_i}(j)}{\\|\\{E_k :\\  V_i \\in E_k \\}\\|}$\n",
      "\n",
      "$D(i \\rightarrow j) = \\frac{I_{c_j}(i)} {\\| E_i \\|}$"
     ]
    },
    {
     "cell_type": "markdown",
     "metadata": {},
     "source": [
      "We can define probability of going from node j to k as:\n",
      "\n",
      "$P(j \\rightarrow k) = \\sum\\limits_{i=1}^{n}{\\frac{I_{c_i}(j)}{\\|\\{E_k :\\  V_i \\in E_k \\}\\|}}\\ \\frac{I_{c_i}(k)}{|E_k|}$"
     ]
    },
    {
     "cell_type": "markdown",
     "metadata": {},
     "source": [
      "$P(j \\rightarrow k) = \\frac{\\gamma(j \\rightarrow k)} {\\Phi_j}$"
     ]
    },
    {
     "cell_type": "markdown",
     "metadata": {},
     "source": [
      "$\\sum\\limits_{j=1}^{m}P(j \\rightarrow k) \\pi_j = \\pi_k$\n",
      "\n",
      "$\\Phi_j = \\sum\\limits_{j=1}^{m} \\gamma(j \\rightarrow k)$ \n",
      "\n",
      "$\\nu_n = \\frac{\\pi_n}{\\Phi_n}$\n",
      "\n",
      "$\\sum\\limits_{j=1}^{m} \\frac{\\gamma(j \\rightarrow k)} {\\Phi_j} \\pi_j = \\pi_k =  \\Phi_n \\frac{\\pi_n}{\\Phi_n}$\n",
      "$\\sum\\limits_{j=1}^{m} \\gamma(j \\rightarrow k) \\nu_j  = \\Phi_k \\nu_k = \\sum\\limits_{l=1}^{m} \\gamma(k \\rightarrow l) \\nu_k = \\sum\\limits_{j=1}^{m} \\gamma(k \\rightarrow j) \\nu_k$\n",
      "\n",
      "\n",
      "\n",
      "$\\sum\\limits_{j=1}^{m} (\\gamma(j \\rightarrow k) \\nu_j - \\gamma(k \\rightarrow j) \\nu_k )= 0$\n",
      "\n",
      "In special case:\n",
      "\n",
      "$\\gamma(j \\rightarrow k) \\nu_j = \\gamma(k \\rightarrow j) \\nu_k$\n",
      "\n",
      "$\\nu_j = \\frac{\\gamma(k \\rightarrow j)}{\\gamma(j \\rightarrow k)} \\nu_k$\n",
      "\n",
      "$\\gamma(j \\rightarrow k)  = \\gamma(k \\rightarrow j) $\n",
      "\n",
      "$\\pi_i = \\frac{\\gamma(k \\rightarrow j)}{\\gamma(j \\rightarrow k)} \\frac{\\Phi_j}{\\Phi_k}\\pi_k =  \\frac{\\Phi_j}{\\Phi_k} \\pi_k $\n",
      "\n",
      "\n",
      "$\\sum\\limits_{i=1}^{m} \\pi_i = 1 \\Rightarrow (\\sum\\limits_{i=1}^{m} \\Phi_i) \\frac{\\pi_k}{\\Phi_k} = 1$\n",
      "\n",
      "$\\pi_k = \\frac{\\Phi_k}{\\sum\\limits_{i=1}^{m}\\Phi_i} =  \\frac{\\|\\{E_p :\\  V_i \\in E_p \\}\\|} {\\sum\\limits_{i=1}^{m} \\|\\{E_p :\\  V_i \\in E_p \\}\\|}$"
     ]
    },
    {
     "cell_type": "code",
     "collapsed": false,
     "input": [
      "from hypergraph import generators"
     ],
     "language": "python",
     "metadata": {},
     "outputs": [],
     "prompt_number": 105
    },
    {
     "cell_type": "code",
     "collapsed": false,
     "input": [
      "HG = generators.generic_hypergraph(5, ((2, 1), (3, 2)))"
     ],
     "language": "python",
     "metadata": {},
     "outputs": [],
     "prompt_number": 206
    },
    {
     "cell_type": "code",
     "collapsed": false,
     "input": [
      "HG.hyper_edges()"
     ],
     "language": "python",
     "metadata": {},
     "outputs": [
      {
       "metadata": {},
       "output_type": "pyout",
       "prompt_number": 207,
       "text": [
        "[{1, 2}, {1, 3, 5}, {1, 4, 5}]"
       ]
      }
     ],
     "prompt_number": 207
    },
    {
     "cell_type": "code",
     "collapsed": false,
     "input": [
      "import numpy as np\n",
      "\n",
      "def create_markov_matrix_n(HG):\n",
      "    number_of_nodes = len(HG.nodes())\n",
      "    markov_matrix = np.zeros((number_of_nodes, number_of_nodes))\n",
      "    \n",
      "    for node in HG.nodes():\n",
      "        \n",
      "        for edge in [edge for edge in HG.hyper_edges() if node in edge]:\n",
      "            for node_2 in edge:\n",
      "                cardinality = len(edge)\n",
      "                markov_matrix[node -1, node_2 - 1] += 1 / cardinality\n",
      "\n",
      "        sum_of_all = sum(markov_matrix[node - 1])\n",
      "        if sum_of_all:\n",
      "            markov_matrix[node - 1] /= sum_of_all\n",
      "    return markov_matrix"
     ],
     "language": "python",
     "metadata": {},
     "outputs": [],
     "prompt_number": 251
    },
    {
     "cell_type": "code",
     "collapsed": false,
     "input": [
      "%matplotlib inline"
     ],
     "language": "python",
     "metadata": {},
     "outputs": [],
     "prompt_number": 252
    },
    {
     "cell_type": "code",
     "collapsed": false,
     "input": [
      "from matplotlib import pyplot as plt"
     ],
     "language": "python",
     "metadata": {},
     "outputs": [],
     "prompt_number": 253
    },
    {
     "cell_type": "code",
     "collapsed": false,
     "input": [
      "markov_matrix = create_markov_matrix_n(HG)\n",
      "markov_matrix[0]"
     ],
     "language": "python",
     "metadata": {},
     "outputs": [
      {
       "metadata": {},
       "output_type": "pyout",
       "prompt_number": 254,
       "text": [
        "array([ 0.38888889,  0.16666667,  0.11111111,  0.11111111,  0.22222222])"
       ]
      }
     ],
     "prompt_number": 254
    },
    {
     "cell_type": "code",
     "collapsed": false,
     "input": [
      "from hypergraph.diffusion_engine import DiffusionEngine\n",
      "\n",
      "\n",
      "engine = DiffusionEngine(markov_matrix, t_per_walker=100)\n",
      "t_max = 100000\n",
      "frequencies, states = engine.simulate(t_max)\n",
      "print(frequencies)\n",
      "frequencies = [(node, frequency / t_max) for node, frequency in frequencies]\n",
      "xs, ys = zip(*frequencies)\n",
      "print(ys)\n",
      "print(xs)"
     ],
     "language": "python",
     "metadata": {},
     "outputs": [
      {
       "output_type": "stream",
       "stream": "stdout",
       "text": [
        "[(0, 37612), (4, 24528), (1, 12913), (2, 12563), (3, 12384)]\n",
        "(0.37612, 0.24528, 0.12913, 0.12563, 0.12384)\n",
        "(0, 4, 1, 2, 3)\n"
       ]
      }
     ],
     "prompt_number": 257
    },
    {
     "cell_type": "code",
     "collapsed": false,
     "input": [
      "plt.bar(xs, ys)"
     ],
     "language": "python",
     "metadata": {},
     "outputs": [
      {
       "metadata": {},
       "output_type": "pyout",
       "prompt_number": 259,
       "text": [
        "<Container object of 5 artists>"
       ]
      },
      {
       "metadata": {},
       "output_type": "display_data",
       "png": "[encoded data removed]",
       "text": [
        "<matplotlib.figure.Figure at 0x7ff529c08b50>"
       ]
      }
     ],
     "prompt_number": 259
    },
    {
     "cell_type": "code",
     "collapsed": false,
     "input": [
      "from hypergraph.analytical import prediction"
     ],
     "language": "python",
     "metadata": {},
     "outputs": [],
     "prompt_number": 246
    },
    {
     "cell_type": "code",
     "collapsed": false,
     "input": [
      "ys = prediction(HG, 'hypergraph')"
     ],
     "language": "python",
     "metadata": {},
     "outputs": [],
     "prompt_number": 247
    },
    {
     "cell_type": "code",
     "collapsed": false,
     "input": [
      "plt.bar(HG.nodes(), ys)"
     ],
     "language": "python",
     "metadata": {},
     "outputs": [
      {
       "metadata": {},
       "output_type": "pyout",
       "prompt_number": 248,
       "text": [
        "<Container object of 5 artists>"
       ]
      },
      {
       "metadata": {},
       "output_type": "display_data",
       "png": "[encoded data removed]",
       "text": [
        "<matplotlib.figure.Figure at 0x7ff529fc43d0>"
       ]
      }
     ],
     "prompt_number": 248
    },
    {
     "cell_type": "code",
     "collapsed": false,
     "input": [
      "from collections import defaultdict\n",
      "\n",
      "node_edges = np.zeros((len(HG.nodes()), len(HG.hyper_edges())))\n",
      "\n",
      "for node in HG.nodes():\n",
      "    node_edges[node - 1] = np.array([node in edge for edge in HG.hyper_edges()])\n",
      "\n",
      "number_of_edges = len(HG.hyper_edges())\n",
      "markov_matrix = np.zeros((number_of_edges, number_of_edges))\n",
      "\n",
      "for i, edge in enumerate(HG.hyper_edges()):\n",
      "    print(edge)\n",
      "    for node in edge:\n",
      "        print(node)\n",
      "        for j, contained in enumerate(node_edges[node-1]):\n",
      "            print(len(edge))\n",
      "            print(contained / len(edge) / len(node_edges[node-1]))\n",
      "            markov_matrix[i, j] += contained / len(edge) / len(node_edges[node-1])\n",
      "    print(markov_matrix[i])      \n",
      "    sum_of_all = sum(markov_matrix[i])\n",
      "    #if sum_of_all:\n",
      "    #    markov_matrix[i] /= sum_of_all\n",
      "    "
     ],
     "language": "python",
     "metadata": {},
     "outputs": [
      {
       "output_type": "stream",
       "stream": "stdout",
       "text": [
        "{1, 2}\n",
        "1\n",
        "2\n",
        "0.166666666667\n",
        "2\n",
        "0.166666666667\n",
        "2\n",
        "0.166666666667\n",
        "2\n",
        "2\n",
        "0.166666666667\n",
        "2\n",
        "0.0\n",
        "2\n",
        "0.0\n",
        "[ 0.33333333  0.16666667  0.16666667]\n",
        "{1, 3, 5}\n",
        "1\n",
        "3\n",
        "0.111111111111\n",
        "3\n",
        "0.111111111111\n",
        "3\n",
        "0.111111111111\n",
        "3\n",
        "3\n",
        "0.0\n",
        "3\n",
        "0.111111111111\n",
        "3\n",
        "0.0\n",
        "5\n",
        "3\n",
        "0.0\n",
        "3\n",
        "0.111111111111\n",
        "3\n",
        "0.111111111111\n",
        "[ 0.11111111  0.33333333  0.22222222]\n",
        "{1, 4, 5}\n",
        "1\n",
        "3\n",
        "0.111111111111\n",
        "3\n",
        "0.111111111111\n",
        "3\n",
        "0.111111111111\n",
        "4\n",
        "3\n",
        "0.0\n",
        "3\n",
        "0.0\n",
        "3\n",
        "0.111111111111\n",
        "5\n",
        "3\n",
        "0.0\n",
        "3\n",
        "0.111111111111\n",
        "3\n",
        "0.111111111111\n",
        "[ 0.11111111  0.22222222  0.33333333]\n"
       ]
      }
     ],
     "prompt_number": 323
    },
    {
     "cell_type": "code",
     "collapsed": false,
     "input": [
      "markov_matrix"
     ],
     "language": "python",
     "metadata": {},
     "outputs": [
      {
       "metadata": {},
       "output_type": "pyout",
       "prompt_number": 318,
       "text": [
        "array([[ 0.33333333,  0.16666667,  0.16666667],\n",
        "       [ 0.11111111,  0.33333333,  0.22222222],\n",
        "       [ 0.11111111,  0.22222222,  0.33333333]])"
       ]
      }
     ],
     "prompt_number": 318
    },
    {
     "cell_type": "code",
     "collapsed": false,
     "input": [
      "from hypergraph.markov_diffusion import create_markov_matrix"
     ],
     "language": "python",
     "metadata": {},
     "outputs": [],
     "prompt_number": 307
    },
    {
     "cell_type": "code",
     "collapsed": false,
     "input": [
      "markov_matrix_2 = create_markov_matrix(HG.hyper_edges(), count_itself=True)\n",
      "print(markov_matrix_2)"
     ],
     "language": "python",
     "metadata": {},
     "outputs": [
      {
       "output_type": "stream",
       "stream": "stdout",
       "text": [
        "[[ 0.33333333  0.33333333  0.33333333]\n",
        " [ 0.25        0.25        0.5       ]\n",
        " [ 0.25        0.5         0.25      ]]\n"
       ]
      }
     ],
     "prompt_number": 308
    },
    {
     "cell_type": "code",
     "collapsed": false,
     "input": [
      "engine = DiffusionEngine(markov_matrix, t_per_walker=100)\n",
      "t_max = 1000\n",
      "frequencies, states = engine.simulate(t_max)\n",
      "\n",
      "frequencies = [(node, frequency / t_max) for node, frequency in frequencies]\n",
      "print(frequencies)\n",
      "xs, ys = zip(*frequencies)\n",
      "print(ys)\n",
      "print(xs)\n",
      "plt.bar(xs, ys)"
     ],
     "language": "python",
     "metadata": {},
     "outputs": [
      {
       "output_type": "stream",
       "stream": "stdout",
       "text": [
        "[(2, 0.395), (1, 0.383), (0, 0.222)]\n",
        "(0.395, 0.383, 0.222)\n",
        "(2, 1, 0)\n"
       ]
      },
      {
       "metadata": {},
       "output_type": "pyout",
       "prompt_number": 312,
       "text": [
        "<Container object of 3 artists>"
       ]
      },
      {
       "metadata": {},
       "output_type": "display_data",
       "png": "[encoded data removed]",
       "text": [
        "<matplotlib.figure.Figure at 0x7ff52950b3d0>"
       ]
      }
     ],
     "prompt_number": 312
    },
    {
     "cell_type": "code",
     "collapsed": false,
     "input": [
      "engine = DiffusionEngine(markov_matrix_2, t_per_walker=100)\n",
      "t_max = 10000\n",
      "frequencies, states = engine.simulate(t_max)\n",
      "print(frequencies)\n",
      "frequencies = [(node, frequency / t_max) for node, frequency in frequencies]\n",
      "print(\"frequencies\")\n",
      "print(frequencies)\n",
      "xs, ys = zip(*frequencies)\n",
      "print(ys)\n",
      "print(xs)\n",
      "plt.bar(xs, ys)"
     ],
     "language": "python",
     "metadata": {},
     "outputs": [
      {
       "output_type": "stream",
       "stream": "stdout",
       "text": [
        "[(2, 3616), (1, 3498), (0, 2886)]\n",
        "frequencies\n",
        "[(2, 0.3616), (1, 0.3498), (0, 0.2886)]\n",
        "(0.3616, 0.3498, 0.2886)\n",
        "(2, 1, 0)\n"
       ]
      },
      {
       "metadata": {},
       "output_type": "pyout",
       "prompt_number": 310,
       "text": [
        "<Container object of 3 artists>"
       ]
      },
      {
       "metadata": {},
       "output_type": "display_data",
       "png": "[encoded data removed]",
       "text": [
        "<matplotlib.figure.Figure at 0x7ff529613f90>"
       ]
      }
     ],
     "prompt_number": 310
    },
    {
     "cell_type": "code",
     "collapsed": false,
     "input": [
      "from hypergraph.markov_diffusion import count_nodes"
     ],
     "language": "python",
     "metadata": {},
     "outputs": [],
     "prompt_number": 311
    },
    {
     "cell_type": "code",
     "collapsed": false,
     "input": [
      "print(frequencies)\n",
      "most_common_nodes = count_nodes(HG.nodes(), HG.hyper_edges(), frequencies)"
     ],
     "language": "python",
     "metadata": {},
     "outputs": [
      {
       "output_type": "stream",
       "stream": "stdout",
       "text": [
        "[(2, 0.395), (1, 0.383), (0, 0.222)]\n"
       ]
      }
     ],
     "prompt_number": 313
    },
    {
     "cell_type": "code",
     "collapsed": false,
     "input": [
      "from hypergraph import utils"
     ],
     "language": "python",
     "metadata": {},
     "outputs": [],
     "prompt_number": 302
    },
    {
     "cell_type": "code",
     "collapsed": false,
     "input": [
      "utils.plot_nodes_frequencies(most_common_nodes, 'Nodes in a graph')"
     ],
     "language": "python",
     "metadata": {},
     "outputs": [
      {
       "metadata": {},
       "output_type": "display_data",
       "png": "[encoded data removed]",
       "text": [
        "<matplotlib.figure.Figure at 0x7ff5295418d0>"
       ]
      },
      {
       "metadata": {},
       "output_type": "pyout",
       "prompt_number": 314,
       "text": [
        "[0.3599712023038157,\n",
        " 0.07991360691144708,\n",
        " 0.1378689704823614,\n",
        " 0.1421886249100072,\n",
        " 0.28005759539236863]"
       ]
      }
     ],
     "prompt_number": 314
    },
    {
     "cell_type": "code",
     "collapsed": false,
     "input": [],
     "language": "python",
     "metadata": {},
     "outputs": [],
     "prompt_number": 245
    },
    {
     "cell_type": "code",
     "collapsed": false,
     "input": [],
     "language": "python",
     "metadata": {},
     "outputs": [],
     "prompt_number": 245
    },
    {
     "cell_type": "code",
     "collapsed": false,
     "input": [],
     "language": "python",
     "metadata": {},
     "outputs": []
    }
   ],
   "metadata": {}
  }
 ]
}