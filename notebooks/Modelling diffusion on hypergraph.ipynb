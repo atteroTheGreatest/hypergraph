{
 "metadata": {
  "name": "",
  "signature": "sha256:c591b55475ed48c4865b4742b1afcb39b105154a2e3a6b95fbbbf2f749e029c4"
 },
 "nbformat": 3,
 "nbformat_minor": 0,
 "worksheets": [
  {
   "cells": [
    {
     "cell_type": "markdown",
     "metadata": {},
     "source": [
      "#Theoretical modelling of ergodic probabilities of visiting a node\n",
      "\n",
      "It's really important to create good model for our problem. What's the point in numerical simulation\n",
      "of something that doesn't really makes sense?\n",
      "\n"
     ]
    },
    {
     "cell_type": "markdown",
     "metadata": {},
     "source": [
      "from IPython.display import display, Image\n",
      "\n",
      "\n",
      "display(Image(filename='../hypergraph_model.png'))\n"
     ]
    },
    {
     "cell_type": "markdown",
     "metadata": {},
     "source": [
      "\n",
      "W define our hypergraph: \n",
      "$H = \\{V, E\\}$\n",
      "\n"
     ]
    },
    {
     "cell_type": "markdown",
     "metadata": {},
     "source": [
      "In this notebook I introduce two models of hypergraph traversal.\n",
      "\n",
      "First model assumes that we start with the node (white circles) and then choose one of the hyperedges\n",
      "from hyperedges which contain our node. From node we have same probability to go to all nodes which\n",
      "are contained in hyperedge.\n",
      "\n",
      "So for example traversal may look like:\n",
      "- start in node `1`\n",
      "- go to hyperedge `{1, 2, 4}`\n",
      "- choose one of nodes `1, 2, 4` -> `4`\n",
      "\n",
      "and so on.\n",
      "\n",
      "Second model is a bit different. It assumes that the basic unit of traversal is hyperedge.\n",
      "\n",
      "So we can traverse from one hyperedge to another hyperedge having a probability of traversal $j \\rightarrow k$ dependent on nodes that are in both hyperedges."
     ]
    },
    {
     "cell_type": "markdown",
     "metadata": {},
     "source": [
      "Let's begin with first model \n",
      "\n",
      "#Traversing on nodes\n",
      "\n",
      "Every node can be in some hyperedges:\n",
      "\n",
      "$C_{ij} = \\frac{[V_i \\in E_j]} {\\|\\{E_k :\\  V_i \\in E_k \\}\\|}$\n",
      "\n",
      "Every hyperege can have multiple nodes:\n",
      "\n",
      "$D_{ji} = \\frac{[V_j \\in E_i]} {\\| E_i \\|}$\n",
      "\n",
      "$C$ and $D$ are two matricies of sizes (m, n) and (n, m) where:\n",
      "- m - number of nodes\n",
      "- n - number of hyperedges\n",
      "\n",
      "We can define probabilities of travering from any node to any other node $A$ by\n",
      "product of the two.\n",
      "\n",
      "$A = DC$"
     ]
    },
    {
     "cell_type": "markdown",
     "metadata": {},
     "source": [
      "$C(j \\rightarrow i) = \\frac{I_{c_i}(j)}{\\|\\{E_k :\\  V_i \\in E_k \\}\\|}$\n",
      "\n",
      "$D(i \\rightarrow j) = \\frac{I_{E_j}(i)} {\\| E_i \\|}$"
     ]
    },
    {
     "cell_type": "markdown",
     "metadata": {},
     "source": [
      "###Probability of going from node j to k\n",
      "\n",
      "$P(j \\rightarrow k) = \\sum\\limits_{i=1}^{n}{\\frac{I_{c_i}(j)}{\\|\\{E_k :\\  V_i \\in E_k \\}\\|}}\\ \\frac{I_{E_i}(k)}{|E_i|}$"
     ]
    },
    {
     "cell_type": "markdown",
     "metadata": {},
     "source": [
      "$P(j \\rightarrow k) = \\frac{\\gamma(j \\rightarrow k)} {\\Phi_k}$"
     ]
    },
    {
     "cell_type": "markdown",
     "metadata": {},
     "source": [
      "This should result from ergodicity of probability distribution of traversal.\n",
      "\n",
      "$\\sum\\limits_{j=1}^{m}P(j \\rightarrow k) \\pi_j = \\pi_k$\n",
      "\n",
      "$\\Phi_k = \\sum\\limits_{j=1}^{m} \\gamma(j \\rightarrow k)$ \n",
      "\n",
      "$\\nu_n = \\frac{\\pi_n}{\\Phi_n}$\n",
      "\n",
      "$\\sum\\limits_{j=1}^{m} \\frac{\\gamma(j \\rightarrow k)} {\\Phi_j} \\pi_j = \\pi_k =  \\Phi_n \\frac{\\pi_n}{\\Phi_n}$\n",
      "$\\sum\\limits_{j=1}^{m} \\gamma(j \\rightarrow k) \\nu_j  = \\Phi_k \\nu_k = \\sum\\limits_{l=1}^{m} \\gamma(k \\rightarrow l) \\nu_k = \\sum\\limits_{j=1}^{m} \\gamma(k \\rightarrow j) \\nu_k$\n",
      "\n",
      "\n",
      "\n",
      "$\\sum\\limits_{j=1}^{m} (\\gamma(j \\rightarrow k) \\nu_j - \\gamma(k \\rightarrow j) \\nu_k )= 0$\n",
      "\n",
      "In special case:\n",
      "\n",
      "$\\gamma(j \\rightarrow k) \\nu_j = \\gamma(k \\rightarrow j) \\nu_k$\n",
      "\n",
      "$\\nu_j = \\frac{\\gamma(k \\rightarrow j)}{\\gamma(j \\rightarrow k)} \\nu_k$\n",
      "\n",
      "$\\gamma(j \\rightarrow k)  = \\gamma(k \\rightarrow j) $\n",
      "\n",
      "$\\pi_i = \\frac{\\gamma(k \\rightarrow j)}{\\gamma(j \\rightarrow k)} \\frac{\\Phi_j}{\\Phi_k}\\pi_k =  \\frac{\\Phi_j}{\\Phi_k} \\pi_k $\n",
      "\n",
      "\n",
      "$\\sum\\limits_{i=1}^{m} \\pi_i = 1 \\Rightarrow (\\sum\\limits_{i=1}^{m} \\Phi_i) \\frac{\\pi_k}{\\Phi_k} = 1$\n",
      "\n",
      "$\\pi_k = \\frac{\\Phi_k}{\\sum\\limits_{i=1}^{m}\\Phi_i} =  \\frac{\\|\\{E_p :\\  V_i \\in E_p \\}\\|} {\\sum\\limits_{i=1}^{m} \\|\\{E_p :\\  V_i \\in E_p \\}\\|}$"
     ]
    },
    {
     "cell_type": "markdown",
     "metadata": {},
     "source": [
      "#Traversing on hyperedges\n",
      "\n",
      "###probability of going from hyper_edge j to k:\n",
      "\n",
      "$P(j \\rightarrow k) = \\sum\\limits_{i=1}^{n}{ \\frac{I_{c_i}(j)}{|E_j|}  \\frac{I_{E_k}(i)}{\\|\\{E_z :\\  V_i \\in E_z \\}\\|}}\\ $\n",
      "\n",
      "$P(j \\rightarrow k) = \\frac{\\gamma(j \\rightarrow k)} {\\Phi_k}$\n",
      "\n",
      "Summing on nodes\n",
      "\n",
      "$\\Phi_k = \\sum\\limits_{j=1}^{n} \\gamma(j \\rightarrow k)$ \n",
      "\n",
      "And by analogy to similar computation on nodes:\n",
      "\n",
      "$\\pi_i = \\frac{\\gamma(k \\rightarrow j)}{\\gamma(j \\rightarrow k)} \\frac{\\Phi_j}{\\Phi_k}\\pi_k =  \\frac{\\Phi_j}{\\Phi_k} \\pi_k $"
     ]
    },
    {
     "cell_type": "markdown",
     "metadata": {},
     "source": [
      "$\\sum\\limits_{i=1}^{m} \\pi_i = 1 \\Rightarrow (\\sum\\limits_{i=1}^{m} \\Phi_i) \\frac{\\pi_k}{\\Phi_k} = 1$\n",
      "\n",
      "$\\pi_k = \\frac{\\Phi_k}{ \\sum\\limits_{j=1}^{n}\\Phi_j}$\n",
      "\n",
      "$\\phi_k =\\sum\\limits_{i=1}^{m}{  \\frac{I_{E_k}(i)}{\\|\\{E_z :\\  V_i \\in E_z \\} }   }$\n",
      "\n",
      "$\\sum\\limits_{j=1}^{n} \\phi_j = \\sum\\limits_{j=1}^{n}  \\sum\\limits_{i=1}^{m}{  \\frac{I_{E_j}(i)}{\\|\\{E_z :\\  V_i \\in E_z \\} }   }$\n",
      "\n",
      "\n",
      "###Resulting probability\n",
      "\n",
      "$\\pi_k = \\frac{\\sum\\limits_{i=1}^{m}{  \\frac{I_{E_k}(i)}{\\|\\{E_z :\\  V_i \\in E_z \\} }   }}{\\sum\\limits_{j=1}^{n}  \\sum\\limits_{i=1}^{m}{  \\frac{I_{E_j}(i)}{\\|\\{E_z :\\  V_i \\in E_z \\} }   } }$"
     ]
    },
    {
     "cell_type": "markdown",
     "metadata": {},
     "source": [
      "##Below are numerical solutions simulations based on former models."
     ]
    },
    {
     "cell_type": "code",
     "collapsed": false,
     "input": [
      "%matplotlib inline"
     ],
     "language": "python",
     "metadata": {},
     "outputs": [],
     "prompt_number": 1
    },
    {
     "cell_type": "code",
     "collapsed": false,
     "input": [
      "from hypergraph import generators\n",
      "from hypergraph.analytical import prediction"
     ],
     "language": "python",
     "metadata": {},
     "outputs": [],
     "prompt_number": 2
    },
    {
     "cell_type": "code",
     "collapsed": false,
     "input": [
      "import numpy as np\n",
      "from matplotlib import pyplot as plt\n",
      "from IPython.html.widgets import interact\n"
     ],
     "language": "python",
     "metadata": {},
     "outputs": [],
     "prompt_number": 3
    },
    {
     "cell_type": "code",
     "collapsed": false,
     "input": [
      "HG = generators.generic_hypergraph(5, ((2, 1), (3, 2)))"
     ],
     "language": "python",
     "metadata": {},
     "outputs": [],
     "prompt_number": 4
    },
    {
     "cell_type": "code",
     "collapsed": false,
     "input": [
      "HG.hyper_edges()"
     ],
     "language": "python",
     "metadata": {},
     "outputs": [
      {
       "metadata": {},
       "output_type": "pyout",
       "prompt_number": 5,
       "text": [
        "[{1, 5}, {1, 4, 5}, {2, 3, 5}]"
       ]
      }
     ],
     "prompt_number": 5
    },
    {
     "cell_type": "code",
     "collapsed": false,
     "input": [
      "def create_markov_matrix_model_nodes(HG):\n",
      "    number_of_nodes = len(HG.nodes())\n",
      "    markov_matrix = np.zeros((number_of_nodes, number_of_nodes))\n",
      "    \n",
      "    for node in HG.nodes():\n",
      "        for node_2 in HG.nodes():\n",
      "            edges_both = [edge for edge in HG.hyper_edges() if node in edge and node_2 in edge]\n",
      "            edges_first = [edge for edge in HG.hyper_edges() if node in edge]\n",
      "            \n",
      "            for edge in edges_both:\n",
      "                markov_matrix[node -1, node_2 - 1] += 1 / len(edge)\n",
      "        if len(edges_both):\n",
      "            markov_matrix[node -1] /= len(edges_first)\n",
      "        \n",
      "    return markov_matrix"
     ],
     "language": "python",
     "metadata": {},
     "outputs": [],
     "prompt_number": 6
    },
    {
     "cell_type": "code",
     "collapsed": false,
     "input": [
      "markov_matrix = create_markov_matrix_model_nodes(HG)\n",
      "markov_matrix[0]"
     ],
     "language": "python",
     "metadata": {},
     "outputs": [
      {
       "metadata": {},
       "output_type": "pyout",
       "prompt_number": 7,
       "text": [
        "array([ 0.41666667,  0.        ,  0.        ,  0.16666667,  0.41666667])"
       ]
      }
     ],
     "prompt_number": 7
    },
    {
     "cell_type": "code",
     "collapsed": false,
     "input": [
      "from hypergraph.diffusion_engine import DiffusionEngine\n",
      "from hypergraph import utils\n",
      "from functools import partial"
     ],
     "language": "python",
     "metadata": {},
     "outputs": [],
     "prompt_number": 8
    },
    {
     "cell_type": "code",
     "collapsed": false,
     "input": [
      "np.array([1, 2, 3], dtype='float')"
     ],
     "language": "python",
     "metadata": {},
     "outputs": [
      {
       "metadata": {},
       "output_type": "pyout",
       "prompt_number": 9,
       "text": [
        "array([ 1.,  2.,  3.])"
       ]
      }
     ],
     "prompt_number": 9
    },
    {
     "cell_type": "code",
     "collapsed": false,
     "input": [
      "\n",
      "def create_markov_matrix_model_hyper_edges(HG):\n",
      "    node_edges = np.zeros((len(HG.nodes()), len(HG.hyper_edges())))\n",
      "\n",
      "    for node in HG.nodes():\n",
      "        node_edges[node - 1] = np.array([node in edge for edge in HG.hyper_edges()])\n",
      "\n",
      "    number_of_edges = len(HG.hyper_edges())\n",
      "    markov_matrix = np.zeros((number_of_edges, number_of_edges))\n",
      "\n",
      "    for i, edge in enumerate(HG.hyper_edges()):\n",
      "        for node in edge:\n",
      "            for j, contained in enumerate(node_edges[node-1]):\n",
      "                markov_matrix[i, j] += contained / len(edge) / sum([edge for edge in node_edges[node-1] if edge])\n",
      "\n",
      "        sum_of_all = sum(markov_matrix[i])\n",
      "    return markov_matrix\n",
      "\n",
      "\n",
      "def compute_phi_k(nodes, edges, edge):\n",
      "    phi_k = 0\n",
      "    for node in [node for node in nodes if node in edge]:\n",
      "        phi_k_node = 1 / len([edge for edge in edges if node in edge])\n",
      "        phi_k += phi_k_node\n",
      "    return phi_k\n",
      "\n",
      "\n",
      "def hypergraph_analytical_edges(HG):\n",
      "    phis = []\n",
      "    for edge in HG.hyper_edges():\n",
      "        phi_k = compute_phi_k(HG.nodes(), HG.edges(), edge)\n",
      "\n",
      "        phis.append(phi_k)\n",
      "    \n",
      "    sum_of_all_phis = sum(phis)\n",
      "    \n",
      "    pis = [phi_k / sum_of_all_phis for phi_k in phis]\n",
      "    return pis"
     ],
     "language": "python",
     "metadata": {},
     "outputs": [],
     "prompt_number": 17
    },
    {
     "cell_type": "code",
     "collapsed": false,
     "input": [
      "%%time\n",
      "engine = DiffusionEngine(markov_matrix, t_per_walker=100)\n",
      "t_max = 10000\n",
      "frequencies, states = engine.simulate(t_max)\n",
      "\n",
      "frequencies = [(node, frequency / t_max) for node, frequency in frequencies]\n",
      "print(frequencies)\n",
      "xs, ys = zip(*frequencies)\n",
      "print(ys)\n",
      "print(xs)\n",
      "plt.bar(xs, ys)"
     ],
     "language": "python",
     "metadata": {},
     "outputs": [
      {
       "output_type": "stream",
       "stream": "stdout",
       "text": [
        "[(4, 0.3713), (0, 0.2388), (2, 0.1382), (1, 0.1271), (3, 0.1246)]\n",
        "(0.3713, 0.2388, 0.1382, 0.1271, 0.1246)\n",
        "(4, 0, 2, 1, 3)\n",
        "CPU times: user 143 ms, sys: 27 ms, total: 170 ms"
       ]
      },
      {
       "output_type": "stream",
       "stream": "stdout",
       "text": [
        "\n",
        "Wall time: 730 ms\n"
       ]
      },
      {
       "metadata": {},
       "output_type": "display_data",
       "png": "[encoded data removed]",
       "text": [
        "<matplotlib.figure.Figure at 0x7f73e85fef90>"
       ]
      }
     ],
     "prompt_number": 18
    },
    {
     "cell_type": "code",
     "collapsed": false,
     "input": [
      "HG = None\n",
      "def create(n=(5,30), m=(5,30), k=(1,10), plot=False):\n",
      "    global HG\n",
      "    HG = generators.uniform_hypergraph(n, m, k)\n",
      "    print(HG.nodes())\n",
      "    print(HG.hyper_edges())\n",
      "    \n",
      "    if plot:\n",
      "        utils.plot_different_representations(HG.nodes(), HG.hyper_edges())\n",
      "\n",
      "    return HG"
     ],
     "language": "python",
     "metadata": {},
     "outputs": [],
     "prompt_number": 19
    },
    {
     "cell_type": "code",
     "collapsed": false,
     "input": [
      "\n",
      "from numpy import linalg as LA\n",
      "\n",
      "def compare(t_max=(1000, 10000),\n",
      "            number_of_walkers=(1, 100),\n",
      "            model={\"node\": {\"analytical\": partial(prediction, model='hypergraph'),\n",
      "                            \"numerical\": create_markov_matrix_model_nodes},\n",
      "                   \"hyperedges\": {\"analytical\": hypergraph_analytical_edges,\n",
      "                                  \"numerical\": create_markov_matrix_model_hyper_edges}}):\n",
      "    \n",
      "    markov_matrix = model[\"numerical\"](HG)\n",
      "    engine = DiffusionEngine(markov_matrix, t_per_walker=int(t_max / number_of_walkers))\n",
      "    \n",
      "    freqs_matrix = LA.matrix_power(markov_matrix, 20)[0]\n",
      "    frequencies, states = engine.simulate(t_max)\n",
      "    \n",
      "    connected_elements = [freq[0] for freq in frequencies]\n",
      "    if model == \"node\":\n",
      "        missing_nodes = set(HG.nodes()) - set(connected_elements)\n",
      "        for missing_node in missing_nodes:\n",
      "            frequencies.append((missing_node, 0))\n",
      "    elif model == \"hyperedges\":\n",
      "        missing_edges = set(HG.hyper_edges()) - set(connected_elements)\n",
      "        for missing_edge in missing_edges:\n",
      "            frequencies.append((missing_edge, 0))\n",
      "        \n",
      "    frequencies = [(node, frequency) for node, frequency in frequencies]\n",
      "    frequencies.sort(key=lambda x: x[0])\n",
      "    xs, ys = zip(*frequencies)\n",
      "    \n",
      "    ys = np.array(ys, dtype='float')\n",
      "    ys /= sum(ys)\n",
      "    width = 0.2  \n",
      "\n",
      "    ys_prediction = model[\"analytical\"](HG)\n",
      "    \n",
      "    plt.figure(figsize=(10, 8))\n",
      "    plt.bar(xs, ys, width=width, color='crimson', label='Simulated')\n",
      "    \n",
      "    plt.bar(np.array(xs) + width, ys_prediction, width=width, color='purple', label='Analytical')\n",
      "    \n",
      "    plt.bar(np.array(xs) + 2 * width, freqs_matrix, width=width, color='gray', label='Traversal matrix to N')\n",
      "    plt.legend(loc=0)\n",
      "    plt.title(\"Comparison after %s iterations\" % t_max)"
     ],
     "language": "python",
     "metadata": {},
     "outputs": [],
     "prompt_number": 100
    },
    {
     "cell_type": "code",
     "collapsed": false,
     "input": [
      "interact(create)"
     ],
     "language": "python",
     "metadata": {},
     "outputs": [
      {
       "output_type": "stream",
       "stream": "stdout",
       "text": [
        "[1, 2, 3, 4, 5, 6, 7, 8, 9, 10, 11, 12, 13, 14, 15, 16, 17]\n",
        "[{9, 10, 3, 5, 17}, {9, 2, 3, 5, 1}, {9, 15, 12, 6, 1}, {6, 2, 3, 5, 14}, {7, 17, 3, 13, 15}, {17, 2, 4, 14, 7}, {1, 10, 4, 12, 17}, {16, 8, 11, 13, 6}, {16, 8, 2, 11, 7}, {16, 9, 10, 3, 14}, {16, 1, 4, 8, 7}, {16, 11, 12, 5, 15}, {16, 9, 10, 12, 7}, {17, 12, 5, 14, 15}, {8, 1, 2, 16, 15}, {8, 4, 5, 14, 15}, {17, 15, 12, 4, 9}]\n"
       ]
      },
      {
       "metadata": {},
       "output_type": "pyout",
       "prompt_number": 101,
       "text": [
        "<function __main__.create>"
       ]
      }
     ],
     "prompt_number": 101
    },
    {
     "cell_type": "code",
     "collapsed": false,
     "input": [
      "print(HG.nodes())\n",
      "\n",
      "HG = generators.generic_hypergraph(11, ((3, 6), (4, 6), (5, 5), (6, 4)))"
     ],
     "language": "python",
     "metadata": {},
     "outputs": [
      {
       "output_type": "stream",
       "stream": "stdout",
       "text": [
        "[1, 2, 3, 4, 5, 6, 7, 8, 9, 10, 11, 12, 13, 14, 15, 16, 17]\n"
       ]
      }
     ],
     "prompt_number": 102
    },
    {
     "cell_type": "code",
     "collapsed": false,
     "input": [
      "interact(compare);"
     ],
     "language": "python",
     "metadata": {},
     "outputs": [
      {
       "metadata": {},
       "output_type": "display_data",
       "png": "[encoded data removed]",
       "text": [
        "<matplotlib.figure.Figure at 0x7f73b9c23150>"
       ]
      }
     ],
     "prompt_number": 103
    },
    {
     "cell_type": "markdown",
     "metadata": {},
     "source": [
      "#TODO \n",
      "\n",
      "inspect why there are so big diffrences between simulated and computed hyperedges model"
     ]
    },
    {
     "cell_type": "code",
     "collapsed": false,
     "input": [
      "from hypergraph import converters\n",
      "import networkx as nx\n",
      "from hypergraph.utils import (\n",
      "    plot_bipartite_graph,\n",
      "    hypergraph_to_bipartite_parts\n",
      ")\n",
      "\n",
      "\n",
      "def test_connected(HG):\n",
      "    nodes = HG.nodes()\n",
      "    hyper_edges = HG.hyper_edges()\n",
      "    custom_hyper_g = converters.convert_to_custom_hyper_G(nodes, hyper_edges)\n",
      "    \n",
      "    nodes_in_hyperedges = set()\n",
      "    for hyper_edge in hyper_edges:\n",
      "        nodes_in_hyperedges |= hyper_edge\n",
      "    \n",
      "    is_every_node_in_edge = not bool(set(nodes) - nodes_in_hyperedges)\n",
      "            \n",
      "    return nx.is_connected(HG) and is_every_node_in_edge"
     ],
     "language": "python",
     "metadata": {},
     "outputs": [],
     "prompt_number": 104
    },
    {
     "cell_type": "code",
     "collapsed": false,
     "input": [
      "test_connected(HG)"
     ],
     "language": "python",
     "metadata": {},
     "outputs": [
      {
       "metadata": {},
       "output_type": "pyout",
       "prompt_number": 99,
       "text": [
        "True"
       ]
      }
     ],
     "prompt_number": 99
    },
    {
     "cell_type": "code",
     "collapsed": false,
     "input": [],
     "language": "python",
     "metadata": {},
     "outputs": [],
     "prompt_number": 77
    },
    {
     "cell_type": "code",
     "collapsed": false,
     "input": [],
     "language": "python",
     "metadata": {},
     "outputs": []
    }
   ],
   "metadata": {}
  }
 ]
}