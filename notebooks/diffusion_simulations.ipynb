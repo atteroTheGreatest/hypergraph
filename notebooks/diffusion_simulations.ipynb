{
 "metadata": {
  "name": "",
  "signature": "sha256:c9f08b277b65411a3957c5a2dc2f589e987ae39c12d8669600a8ee6988d5405a"
 },
 "nbformat": 3,
 "nbformat_minor": 0,
 "worksheets": [
  {
   "cells": [
    {
     "cell_type": "code",
     "collapsed": false,
     "input": [
      "import numpy as np\n",
      "\n",
      "from functools import partial\n",
      "from matplotlib import pyplot as plt\n",
      "\n",
      "from numpy import linalg as LA\n",
      "\n",
      "from hypergraph import generators\n",
      "from hypergraph.analytical import prediction\n",
      "from hypergraph.diffusion_engine import DiffusionEngine\n",
      "from hypergraph import utils\n",
      "from hypergraph.markov_diffusion import create_markov_matrix_model_nodes\n",
      "from hypergraph.markov_diffusion import create_markov_matrix_model_hyper_edges\n",
      "\n",
      "\n",
      "# Define model's definitions\n",
      "ALL_MODELS = {\n",
      "    \"node\": {\n",
      "        \"analytical\": partial(prediction, model='hypergraph_nodes'),\n",
      "        \"numerical\": create_markov_matrix_model_nodes,\n",
      "        \"name\": \"node\",\n",
      "    },\n",
      "    \"hyperedges\": {\n",
      "        \"analytical\": partial(prediction, model='hypergraph_edges'),\n",
      "        \"numerical\": create_markov_matrix_model_hyper_edges,\n",
      "        \"name\": \"hyperedges\",\n",
      "    }\n",
      "}\n",
      "\n",
      "# Constants for atomistic simulation\n",
      "t_max = 100000\n",
      "number_of_walkers = 1\n",
      "\n",
      "\n",
      "def show_models(HG):\n",
      "    \n",
      "    def show_model(model):\n",
      "        markov_matrix = model[\"numerical\"](HG)\n",
      "        t_per_walker = int(t_max / number_of_walkers)\n",
      "        engine = DiffusionEngine(markov_matrix, t_per_walker=t_per_walker)\n",
      "\n",
      "        freqs_matrix = LA.matrix_power(markov_matrix, 40)[0]\n",
      "        frequencies, states = engine.simulate(t_max)\n",
      "\n",
      "        connected_elements = [freq[0] + 1 for freq in frequencies]\n",
      "\n",
      "        if model['name'] == \"node\":\n",
      "            missing_nodes = set(HG.nodes()) - set(connected_elements)\n",
      "            for missing_node in missing_nodes:\n",
      "                frequencies.append((missing_node, 0))\n",
      "                \n",
      "        frequencies = [(node, frequency) for node, frequency in frequencies]\n",
      "        frequencies.sort(key=lambda x: x[0])\n",
      "        xs, ys = zip(*frequencies)\n",
      "\n",
      "        ys = np.array(ys, dtype='float')\n",
      "        ys /= sum(ys)\n",
      "        width = 0.2  \n",
      "\n",
      "        ys_prediction = model[\"analytical\"](HG)\n",
      "\n",
      "        plt.figure(figsize=(10, 8))\n",
      "        plt.bar(xs, ys, width=width, color='crimson', label='Simulated')\n",
      "\n",
      "        plt.bar(np.array(xs) + width, freqs_matrix, width=width, label='Traversal matrix to N')\n",
      "\n",
      "        plt.bar(np.array(xs) + 2 * width, ys_prediction, width=width, color='#dcccdd', label='Analytical')\n",
      "        plt.legend(loc=0)\n",
      "        plt.title(\"Comparison after %s iterations with %s walkers\" % (t_max, number_of_walkers))\n",
      "        \n",
      "    show_model(ALL_MODELS[\"node\"])\n",
      "    show_model(ALL_MODELS[\"hyperedges\"])"
     ],
     "language": "python",
     "metadata": {},
     "outputs": [],
     "prompt_number": 1
    },
    {
     "cell_type": "code",
     "collapsed": false,
     "input": [
      "%matplotlib inline\n",
      "from hypergraph.hypergraph_models import HyperGraph\n",
      "from hypergraph.generators import generic_hypergraph\n",
      "\n",
      "HG = generic_hypergraph(6, ((2, 3), (3, 4), (4, 2)))\n",
      "print(HG.hyper_edges())"
     ],
     "language": "python",
     "metadata": {},
     "outputs": [
      {
       "output_type": "stream",
       "stream": "stdout",
       "text": [
        "[{1, 5}, {2, 5}, {3, 6}, {1, 3, 5}, {1, 4, 6}, {4, 5, 6}, {2, 4, 5}, {3, 4, 5, 6}, {1, 2, 4, 5}]\n"
       ]
      }
     ],
     "prompt_number": 6
    },
    {
     "cell_type": "code",
     "collapsed": false,
     "input": [
      "show_models(HG)"
     ],
     "language": "python",
     "metadata": {},
     "outputs": [
      {
       "metadata": {},
       "output_type": "display_data",
       "png": "[encoded data removed]",
       "text": [
        "<matplotlib.figure.Figure at 0x7f72b25f83c8>"
       ]
      },
      {
       "metadata": {},
       "output_type": "display_data",
       "png": "[encoded data removed]",
       "text": [
        "<matplotlib.figure.Figure at 0x7f72b2735c18>"
       ]
      }
     ],
     "prompt_number": 7
    },
    {
     "cell_type": "markdown",
     "metadata": {},
     "source": [
      "TODO:\n",
      "How I would like it to work:\n",
      "\n",
      " - generate random hypergraphs of given properties (another way of generating hypergraphs?)\n",
      " - have function which evaluates model so that, stationary distribution is available\n",
      " - saves hypergraph and results from three? (what about pykov?) ways of computing stationary distributions\n",
      "    to later compare them\n",
      " - another function for comparing results later with nice graphs and pictures!\n"
     ]
    },
    {
     "cell_type": "code",
     "collapsed": false,
     "input": [
      "import json\n",
      "import pykov\n",
      "import os\n",
      "\n",
      "\n",
      "def generate_hypergraph(generator_function, hypergraph_properties):\n",
      "    HG = generator_function(**hypergraph_properties)\n",
      "    return HG\n",
      "\n",
      "\n",
      "def transition_matrix_to_pykov_chain(matrix):\n",
      "    chain = pykov.Chain()\n",
      "    \n",
      "    for i, row in enumerate(matrix):\n",
      "        for j, column in enumerate(row):\n",
      "            chain[(i, j)] = column\n",
      "    return chain\n",
      "\n",
      "def compute_atomistic_results_nodes(HG):\n",
      "    markov_matrix = create_markov_matrix_model_nodes(HG)\n",
      "    t_per_walker = int(t_max / number_of_walkers)\n",
      "    engine = DiffusionEngine(markov_matrix, t_per_walker=t_per_walker)\n",
      "\n",
      "    freqs_matrix = LA.matrix_power(markov_matrix, 40)[0]\n",
      "    frequencies, states = engine.simulate(t_max)\n",
      "\n",
      "    connected_elements = [freq[0] + 1 for freq in frequencies]\n",
      "\n",
      "    missing_nodes = set(HG.nodes()) - set(connected_elements)\n",
      "    for missing_node in missing_nodes:\n",
      "        frequencies.append((missing_node, 0))\n",
      "\n",
      "    frequencies = [(node, frequency) for node, frequency in frequencies]\n",
      "    frequencies.sort(key=lambda x: x[0])\n",
      "    xs, ys = zip(*frequencies)\n",
      "\n",
      "    ys = np.array(ys, dtype='float')\n",
      "    ys /= sum(ys)\n",
      "    return xs, ys\n",
      "\n",
      "\n",
      "def compute_matrix_power_results_nodes(HG):\n",
      "    markov_matrix = create_markov_matrix_model_nodes(HG)\n",
      "\n",
      "    freqs_matrix = LA.matrix_power(markov_matrix, 40)[0]\n",
      "    ys = freqs_matrix\n",
      "    xs = range(len(ys))\n",
      "    return xs, ys\n",
      "\n",
      "\n",
      "def compute_pykov_results_nodes(HG):\n",
      "    mm = create_markov_matrix_model_nodes(HG)\n",
      "    chain = transition_matrix_to_pykov_chain(mm)\n",
      "    chain_transposed = pykov.Chain(chain)\n",
      "    xs, ys = zip(*chain_transposed.steady().items())\n",
      "    return xs, ys\n",
      "\n",
      "\n",
      "def compute_analytical_prediction_nodes(HG):\n",
      "    ys = prediction(model='hypergraph_nodes', graph=HG)\n",
      "    xs = range(len(ys))\n",
      "    return xs, ys\n",
      "\n",
      "\n",
      "def compute_stationary_distributions(HG, name_to_computation_functions_mapping):\n",
      "    results = {}\n",
      "    for name, computation_function in name_to_computation_functions_mapping.items():\n",
      "        xs, pies = computation_function(HG)\n",
      "        results[name] = pies\n",
      "    return results\n",
      "\n",
      "\n",
      "def serialize(HG):\n",
      "    edges = [list(edge) for edge in HG.hyper_edges()]\n",
      "    return json.dumps(edges)\n",
      "\n",
      "\n",
      "def save_result_distribution(filename, result_distribution):\n",
      "    with open(filename, 'w') as f:\n",
      "        for value in result_distribution:\n",
      "            f.write(\"%s\\n\" % value)\n",
      "\n",
      "\n",
      "def save_hypergraph_values(filename, hg_description):\n",
      "    with open(filename, 'w') as f:\n",
      "        f.write(hg_description)\n",
      "\n",
      "\n",
      "def save_results_to_files(HG, results, counter, directory_name=None):\n",
      "    base_filename = '%s_{name}.csv' % counter\n",
      "    if directory_name:\n",
      "        if not os.path.exists(directory_name):\n",
      "            os.mkdir(directory_name)\n",
      "        base_filename = directory_name + '/' + base_filename\n",
      "    \n",
      "    for name, result_distribution in results.items():\n",
      "        filename = base_filename.format(name=name)\n",
      "        save_result_distribution(filename, result_distribution)\n",
      "    \n",
      "    hg_description = serialize(HG)\n",
      "    filename = base_filename.format(name='hypergraph')\n",
      "    save_hypergraph_values(filename, hg_description)"
     ],
     "language": "python",
     "metadata": {},
     "outputs": [],
     "prompt_number": 206
    },
    {
     "cell_type": "code",
     "collapsed": false,
     "input": [
      "\n",
      "def execute_pipeline(generator_function, hypergraph_properties, directory_name, n=10):    \n",
      "    name_to_computation_functions_mapping = {\n",
      "        'analytical_nodes': compute_analytical_prediction_nodes,\n",
      "        'atomistic_nodes': compute_atomistic_results_nodes,\n",
      "        'matrix_power_nodes': compute_matrix_power_results_nodes,\n",
      "        'pykov_nodes': compute_pykov_results_nodes,\n",
      "    }\n",
      "    \n",
      "    for counter in range(n):\n",
      "        HG = generate_hypergraph(generator_function, hypergraph_properties)\n",
      "        results = compute_stationary_distributions(HG, name_to_computation_functions_mapping)\n",
      "        save_results_to_files(HG, results, counter, directory_name=directory_name)\n",
      "        print(\"%s/%s\" % (counter + 1, n))\n",
      "    print('done')"
     ],
     "language": "python",
     "metadata": {},
     "outputs": [],
     "prompt_number": 229
    },
    {
     "cell_type": "code",
     "collapsed": false,
     "input": [
      "for number_of_nodes in range(50, 90, 10):\n",
      "    print(number_of_nodes)\n",
      "    generator_function = generic_hypergraph\n",
      "    hypergraph_properties = {\n",
      "        'number_of_nodes': number_of_nodes,\n",
      "        'edges_params': ((2, 20), (3, 20), (4, 20), (5, 15), (6, 10))\n",
      "    }\n",
      "\n",
      "    directory_name = 'hypergraph_nodes_%s' % number_of_nodes\n",
      "    execute_pipeline(generator_function, hypergraph_properties, directory_name, n=10)"
     ],
     "language": "python",
     "metadata": {},
     "outputs": [
      {
       "output_type": "stream",
       "stream": "stdout",
       "text": [
        "50\n",
        "1/10"
       ]
      },
      {
       "output_type": "stream",
       "stream": "stdout",
       "text": [
        "\n",
        "2/10"
       ]
      },
      {
       "output_type": "stream",
       "stream": "stdout",
       "text": [
        "\n",
        "3/10"
       ]
      },
      {
       "output_type": "stream",
       "stream": "stdout",
       "text": [
        "\n",
        "4/10"
       ]
      },
      {
       "output_type": "stream",
       "stream": "stdout",
       "text": [
        "\n",
        "5/10"
       ]
      },
      {
       "output_type": "stream",
       "stream": "stdout",
       "text": [
        "\n",
        "6/10"
       ]
      },
      {
       "output_type": "stream",
       "stream": "stdout",
       "text": [
        "\n",
        "7/10"
       ]
      },
      {
       "output_type": "stream",
       "stream": "stdout",
       "text": [
        "\n",
        "8/10"
       ]
      },
      {
       "output_type": "stream",
       "stream": "stdout",
       "text": [
        "\n",
        "9/10"
       ]
      },
      {
       "output_type": "stream",
       "stream": "stdout",
       "text": [
        "\n",
        "10/10"
       ]
      },
      {
       "output_type": "stream",
       "stream": "stdout",
       "text": [
        "\n",
        "done\n",
        "60\n",
        "1/10"
       ]
      },
      {
       "output_type": "stream",
       "stream": "stdout",
       "text": [
        "\n",
        "2/10"
       ]
      },
      {
       "output_type": "stream",
       "stream": "stdout",
       "text": [
        "\n",
        "3/10"
       ]
      },
      {
       "output_type": "stream",
       "stream": "stdout",
       "text": [
        "\n",
        "4/10"
       ]
      },
      {
       "output_type": "stream",
       "stream": "stdout",
       "text": [
        "\n",
        "5/10"
       ]
      },
      {
       "output_type": "stream",
       "stream": "stdout",
       "text": [
        "\n",
        "6/10"
       ]
      },
      {
       "output_type": "stream",
       "stream": "stdout",
       "text": [
        "\n",
        "7/10"
       ]
      },
      {
       "output_type": "stream",
       "stream": "stdout",
       "text": [
        "\n",
        "8/10"
       ]
      },
      {
       "output_type": "stream",
       "stream": "stdout",
       "text": [
        "\n",
        "9/10"
       ]
      },
      {
       "output_type": "stream",
       "stream": "stdout",
       "text": [
        "\n",
        "10/10"
       ]
      },
      {
       "output_type": "stream",
       "stream": "stdout",
       "text": [
        "\n",
        "done\n",
        "70\n",
        "1/10"
       ]
      },
      {
       "output_type": "stream",
       "stream": "stdout",
       "text": [
        "\n",
        "2/10"
       ]
      },
      {
       "output_type": "stream",
       "stream": "stdout",
       "text": [
        "\n",
        "3/10"
       ]
      },
      {
       "output_type": "stream",
       "stream": "stdout",
       "text": [
        "\n",
        "4/10"
       ]
      },
      {
       "output_type": "stream",
       "stream": "stdout",
       "text": [
        "\n",
        "5/10"
       ]
      },
      {
       "output_type": "stream",
       "stream": "stdout",
       "text": [
        "\n",
        "6/10"
       ]
      },
      {
       "output_type": "stream",
       "stream": "stdout",
       "text": [
        "\n",
        "7/10"
       ]
      },
      {
       "output_type": "stream",
       "stream": "stdout",
       "text": [
        "\n",
        "8/10"
       ]
      },
      {
       "output_type": "stream",
       "stream": "stdout",
       "text": [
        "\n",
        "9/10"
       ]
      },
      {
       "output_type": "stream",
       "stream": "stdout",
       "text": [
        "\n",
        "10/10"
       ]
      },
      {
       "output_type": "stream",
       "stream": "stdout",
       "text": [
        "\n",
        "done\n",
        "80\n",
        "1/10"
       ]
      },
      {
       "output_type": "stream",
       "stream": "stdout",
       "text": [
        "\n",
        "2/10"
       ]
      },
      {
       "output_type": "stream",
       "stream": "stdout",
       "text": [
        "\n",
        "3/10"
       ]
      },
      {
       "output_type": "stream",
       "stream": "stdout",
       "text": [
        "\n",
        "4/10"
       ]
      },
      {
       "output_type": "stream",
       "stream": "stdout",
       "text": [
        "\n",
        "5/10"
       ]
      },
      {
       "output_type": "stream",
       "stream": "stdout",
       "text": [
        "\n",
        "6/10"
       ]
      },
      {
       "output_type": "stream",
       "stream": "stdout",
       "text": [
        "\n",
        "7/10"
       ]
      },
      {
       "output_type": "stream",
       "stream": "stdout",
       "text": [
        "\n",
        "8/10"
       ]
      },
      {
       "output_type": "stream",
       "stream": "stdout",
       "text": [
        "\n",
        "9/10"
       ]
      },
      {
       "output_type": "stream",
       "stream": "stdout",
       "text": [
        "\n",
        "10/10"
       ]
      },
      {
       "output_type": "stream",
       "stream": "stdout",
       "text": [
        "\n",
        "done\n"
       ]
      }
     ],
     "prompt_number": 230
    },
    {
     "cell_type": "code",
     "collapsed": false,
     "input": [
      "# show serialized form of hypergraph (possible to recreate it later)\n",
      "!cat hypergraph_nodes_50/0_hypergraph.csv"
     ],
     "language": "python",
     "metadata": {},
     "outputs": [
      {
       "output_type": "stream",
       "stream": "stdout",
       "text": [
        "[[8, 46], [49, 43], [41, 19], [24, 49], [32, 46], [42, 45], [21, 23], [32, 45], [12, 13], [16, 13], [10, 39], [35, 6], [50, 3], [41, 35], [29, 45], [34, 47], [33, 22], [2, 5], [32, 34], [14, 22], [5, 46, 31], [7, 5, 47], [19, 6, 14], [34, 37, 47], [34, 35, 15], [2, 35, 31], [28, 22, 31], [33, 18, 31], [33, 19, 27], [48, 13, 45], [45, 6, 22], [49, 27, 43], [42, 35, 23], [25, 41, 27], [32, 18, 6], [27, 5, 39], [16, 1, 29], [26, 37, 6], [32, 12, 45], [17, 18, 19], [16, 4, 5, 23], [33, 4, 28, 15], [32, 21, 14, 15], [32, 2, 35, 7], [41, 18, 28, 22], [25, 19, 43, 38], [1, 20, 46, 47], [8, 34, 43, 5], [32, 1, 33, 50], [26, 13, 21, 39], [24, 17, 3, 38], [1, 2, 25, 28], [1, 35, 5, 21], [48, 11, 22, 23], [25, 49, 3, 20], [16, 40, 23, 47], [34, 4, 29, 23], [41, 11, 12, 37], [50, 3, 4, 44], [33, 26, 50, 30], [30, 39, 50, 46, 47], [7, 41, 11, 38, 30], [40, 35, 28, 30, 39], [30, 11, 43, 6, 39], [1, 41, 35, 46, 31], [49, 42, 43, 36, 47], [8, 34, 35, 36, 7], [16, 41, 44, 22, 23], [16, 24, 26, 4, 15], [9, 2, 25, 4, 30], [8, 40, 15, 38, 39], [1, 35, 20, 21, 7], [42, 35, 44, 29, 23], [40, 48, 27, 35, 38], [25, 26, 36, 14, 31], [1, 21, 41, 44, 45, 31], [2, 35, 36, 18, 50, 29], [16, 1, 33, 37, 10, 29], [6, 7, 41, 10, 11, 43], [50, 20, 6, 38, 25, 11], [49, 34, 36, 24, 13, 47], [31, 3, 40, 25, 46, 47], [48, 22, 9, 12, 46, 47], [5, 23, 40, 12, 13, 46], [21, 25, 26, 44, 13, 46]]"
       ]
      }
     ],
     "prompt_number": 270
    },
    {
     "cell_type": "markdown",
     "metadata": {},
     "source": [
      "This way I generated a lot of data for a pretty complex hypergraph. However, how do I analyze it?\n",
      "It would be nice to load data from disc and make some basic statistics.\n",
      "I know that atomistic is the most divergent, huh. However, rest should be fine.\n",
      "\n",
      "If I for example get to compare pykov (steady state distributions of Markov Chain based on transition matrix generated from the hypergraph) with model nodes, how big differences will be?"
     ]
    },
    {
     "cell_type": "code",
     "collapsed": false,
     "input": [
      "# read example of results with numpy\n",
      "pykov_results = np.loadtxt('hypergraph_nodes_50/0_pykov_nodes.csv')"
     ],
     "language": "python",
     "metadata": {},
     "outputs": [],
     "prompt_number": 238
    },
    {
     "cell_type": "code",
     "collapsed": false,
     "input": [
      "analytical_results = np.loadtxt('hypergraph_nodes_50/0_analytical_nodes.csv')"
     ],
     "language": "python",
     "metadata": {},
     "outputs": [],
     "prompt_number": 239
    },
    {
     "cell_type": "code",
     "collapsed": false,
     "input": [
      "# compare arrays of results by computing their difference\n",
      "pykov_results - analytical_results"
     ],
     "language": "python",
     "metadata": {},
     "outputs": [
      {
       "metadata": {},
       "output_type": "pyout",
       "prompt_number": 240,
       "text": [
        "array([ -2.85708956e-14,  -1.90507332e-14,  -1.58727198e-14,\n",
        "        -1.90507332e-14,  -2.53963517e-14,  -2.53963517e-14,\n",
        "        -1.90507332e-14,  -1.26981758e-14,   3.65072556e-15,\n",
        "         4.75314232e-16,  -1.90507332e-14,  -1.58727198e-14,\n",
        "        -2.22218077e-14,  -1.26981758e-14,  -1.58727198e-14,\n",
        "        -2.22218077e-14,   3.65072556e-15,  -1.58727198e-14,\n",
        "        -1.58727198e-14,  -1.26981758e-14,  -2.22218077e-14,\n",
        "        -2.53963517e-14,  -2.85708956e-14,  -1.26981758e-14,\n",
        "        -2.85708956e-14,  -1.90507332e-14,  -1.58727198e-14,\n",
        "        -1.58727198e-14,  -1.90507332e-14,  -1.90507332e-14,\n",
        "        -2.53963517e-14,  -2.53963517e-14,  -2.22218077e-14,\n",
        "        -2.53963517e-14,  -4.44436155e-14,  -1.58727198e-14,\n",
        "        -1.26981758e-14,  -1.90507332e-14,  -2.22218077e-14,\n",
        "        -1.90507332e-14,  -3.17454396e-14,  -1.26981758e-14,\n",
        "        -2.22218077e-14,  -1.58727198e-14,  -2.22218077e-14,\n",
        "        -3.17454396e-14,  -3.17454396e-14,  -1.26981758e-14,\n",
        "        -1.90507332e-14,  -2.22218077e-14])"
       ]
      }
     ],
     "prompt_number": 240
    },
    {
     "cell_type": "code",
     "collapsed": false,
     "input": [
      "def compare_results(base_directory, suffix_one, suffix_two):\n",
      "    \"\"\"Compute differences between two different methods for computing the same result\"\"\"\n",
      "    filenames = os.listdir(base_directory)\n",
      "    first_filenames = [filename for filename in filenames if filename.endswith(suffix_one)]\n",
      "    first_filenames.sort()\n",
      "    second_filenames = [filename for filename in filenames if filename.endswith(suffix_two)]\n",
      "    second_filenames.sort()\n",
      "    differences = []\n",
      "    for first, second in zip(first_filenames, second_filenames):\n",
      "        difference = np.loadtxt(base_directory + '/' + first) - np.loadtxt(base_directory + '/' + second)\n",
      "        differences.append(difference)\n",
      "    return differences"
     ],
     "language": "python",
     "metadata": {},
     "outputs": [],
     "prompt_number": 254
    },
    {
     "cell_type": "code",
     "collapsed": false,
     "input": [
      "# compare all the sets of sizes\n",
      "directories = ('hypergraph_nodes_%s' % number_of_nodes for number_of_nodes in range(50, 90, 10))\n",
      "for directory in directories:\n",
      "    print(directory)\n",
      "    differences = compare_results(directory, 'pykov_nodes.csv', 'analytical_nodes.csv')\n",
      "    print('average difference', np.average(differences))\n",
      "    print('variance of differences', np.var(differences))\n",
      "    print('-' * 80)\n",
      "    print()"
     ],
     "language": "python",
     "metadata": {},
     "outputs": [
      {
       "output_type": "stream",
       "stream": "stdout",
       "text": [
        "hypergraph_nodes_50\n",
        "average difference -1.91804384875e-14\n",
        "variance of differences 7.97177042015e-29\n",
        "--------------------------------------------------------------------------------\n",
        "\n",
        "hypergraph_nodes_60\n",
        "average difference -1.48336146607e-14\n",
        "variance of differences 9.55922189543e-29\n",
        "--------------------------------------------------------------------------------\n",
        "\n",
        "hypergraph_nodes_70\n",
        "average difference -1.1600462654e-14\n",
        "variance of differences 9.0635147824e-29\n",
        "--------------------------------------------------------------------------------\n",
        "\n",
        "hypergraph_nodes_80\n",
        "average difference -8.6628469155e-15\n",
        "variance of differences 9.18259586732e-29\n",
        "--------------------------------------------------------------------------------\n",
        "\n"
       ]
      }
     ],
     "prompt_number": 268
    },
    {
     "cell_type": "markdown",
     "metadata": {},
     "source": [
      "## Summing up:\n",
      "\n",
      "- differences are really small between pykov (steady states distributions of markov chain and analytical solutions"
     ]
    }
   ],
   "metadata": {}
  }
 ]
}