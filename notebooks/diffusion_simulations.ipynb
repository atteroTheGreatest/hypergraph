{
 "metadata": {
  "name": "",
  "signature": "sha256:b8c4c7f2b574445fcd855d7a5c9f235a17e6fb2b5bfca08d8a66979baa7c0301"
 },
 "nbformat": 3,
 "nbformat_minor": 0,
 "worksheets": [
  {
   "cells": [
    {
     "cell_type": "code",
     "collapsed": false,
     "input": [
      "import numpy as np\n",
      "\n",
      "from functools import partial\n",
      "from matplotlib import pyplot as plt\n",
      "\n",
      "from numpy import linalg as LA\n",
      "\n",
      "from hypergraph import generators\n",
      "from hypergraph.analytical import prediction\n",
      "from hypergraph.diffusion_engine import DiffusionEngine\n",
      "from hypergraph import utils\n",
      "from hypergraph.markov_diffusion import create_markov_matrix_model_nodes\n",
      "from hypergraph.markov_diffusion import create_markov_matrix_model_hyper_edges\n",
      "\n",
      "\n",
      "# Define model's definitions\n",
      "ALL_MODELS = {\n",
      "    \"node\": {\n",
      "        \"analytical\": partial(prediction, model='hypergraph_nodes'),\n",
      "        \"numerical\": create_markov_matrix_model_nodes,\n",
      "        \"name\": \"node\",\n",
      "    },\n",
      "    \"hyperedges\": {\n",
      "        \"analytical\": partial(prediction, model='hypergraph_edges'),\n",
      "        \"numerical\": create_markov_matrix_model_hyper_edges,\n",
      "        \"name\": \"hyperedges\",\n",
      "    }\n",
      "}\n",
      "\n",
      "# Constants for atomistic simulation\n",
      "t_max = 100000\n",
      "number_of_walkers = 1\n"
     ],
     "language": "python",
     "metadata": {},
     "outputs": [],
     "prompt_number": 6
    },
    {
     "cell_type": "code",
     "collapsed": false,
     "input": [
      "%matplotlib inline\n",
      "from hypergraph.hypergraph_models import HyperGraph\n",
      "from hypergraph.generators import generic_hypergraph"
     ],
     "language": "python",
     "metadata": {},
     "outputs": [],
     "prompt_number": 7
    },
    {
     "cell_type": "markdown",
     "metadata": {},
     "source": [
      "TODO:\n",
      "How I would like it to work:\n",
      "\n",
      " - generate random hypergraphs of given properties (another way of generating hypergraphs?)\n",
      " - have function which evaluates model so that, stationary distribution is available\n",
      " - saves hypergraph and results from three? (what about pykov?) ways of computing stationary distributions\n",
      "    to later compare them\n",
      " - another function for comparing results later with nice graphs and pictures!\n"
     ]
    },
    {
     "cell_type": "code",
     "collapsed": false,
     "input": [
      "import json\n",
      "import pykov\n",
      "import os\n",
      "\n",
      "\n",
      "def generate_hypergraph(generator_function, hypergraph_properties):\n",
      "    HG = generator_function(**hypergraph_properties)\n",
      "    return HG\n",
      "\n",
      "\n",
      "def transition_matrix_to_pykov_chain(matrix):\n",
      "    chain = pykov.Chain()\n",
      "    \n",
      "    for i, row in enumerate(matrix):\n",
      "        for j, column in enumerate(row):\n",
      "            chain[(i, j)] = column\n",
      "    return chain\n",
      "\n",
      "def compute_atomistic_results_nodes(HG):\n",
      "    markov_matrix = create_markov_matrix_model_nodes(HG)\n",
      "    t_per_walker = int(t_max / number_of_walkers)\n",
      "    engine = DiffusionEngine(markov_matrix, t_per_walker=t_per_walker)\n",
      "\n",
      "    freqs_matrix = LA.matrix_power(markov_matrix, 40)[0]\n",
      "    frequencies, states = engine.simulate(t_max)\n",
      "\n",
      "    connected_elements = [freq[0] + 1 for freq in frequencies]\n",
      "\n",
      "    missing_nodes = set(HG.nodes()) - set(connected_elements)\n",
      "    for missing_node in missing_nodes:\n",
      "        frequencies.append((missing_node, 0))\n",
      "\n",
      "    frequencies = [(node, frequency) for node, frequency in frequencies]\n",
      "    frequencies.sort(key=lambda x: x[0])\n",
      "    xs, ys = zip(*frequencies)\n",
      "\n",
      "    ys = np.array(ys, dtype='float')\n",
      "    ys /= sum(ys)\n",
      "    return xs, ys\n",
      "\n",
      "\n",
      "def compute_matrix_power_results_nodes(HG):\n",
      "    markov_matrix = create_markov_matrix_model_nodes(HG)\n",
      "\n",
      "    freqs_matrix = LA.matrix_power(markov_matrix, 40)[0]\n",
      "    ys = freqs_matrix\n",
      "    xs = range(len(ys))\n",
      "    return xs, ys\n",
      "\n",
      "\n",
      "def compute_pykov_results_nodes(HG):\n",
      "    mm = create_markov_matrix_model_nodes(HG)\n",
      "    chain = transition_matrix_to_pykov_chain(mm)\n",
      "    chain_transposed = pykov.Chain(chain)\n",
      "    xs, ys = zip(*chain_transposed.steady().items())\n",
      "    return xs, ys\n",
      "\n",
      "\n",
      "def compute_analytical_prediction_nodes(HG):\n",
      "    ys = prediction(model='hypergraph_nodes', graph=HG)\n",
      "    xs = range(len(ys))\n",
      "    return xs, ys\n",
      "\n",
      "\n",
      "def compute_stationary_distributions(HG, name_to_computation_functions_mapping):\n",
      "    results = {}\n",
      "    for name, computation_function in name_to_computation_functions_mapping.items():\n",
      "        xs, pies = computation_function(HG)\n",
      "        results[name] = pies\n",
      "    return results\n",
      "\n",
      "\n",
      "def serialize(HG):\n",
      "    edges = [list(edge) for edge in HG.hyper_edges()]\n",
      "    return json.dumps(edges)\n",
      "\n",
      "\n",
      "def save_result_distribution(filename, result_distribution):\n",
      "    with open(filename, 'w') as f:\n",
      "        for value in result_distribution:\n",
      "            f.write(\"%s\\n\" % value)\n",
      "\n",
      "\n",
      "def save_hypergraph_values(filename, hg_description):\n",
      "    with open(filename, 'w') as f:\n",
      "        f.write(hg_description)\n",
      "\n",
      "\n",
      "def save_results_to_files(HG, results, counter, directory_name=None):\n",
      "    base_filename = '%s_{name}.csv' % counter\n",
      "    if directory_name:\n",
      "        if not os.path.exists(directory_name):\n",
      "            os.mkdir(directory_name)\n",
      "        base_filename = directory_name + '/' + base_filename\n",
      "    \n",
      "    for name, result_distribution in results.items():\n",
      "        filename = base_filename.format(name=name)\n",
      "        save_result_distribution(filename, result_distribution)\n",
      "    \n",
      "    hg_description = serialize(HG)\n",
      "    filename = base_filename.format(name='hypergraph')\n",
      "    save_hypergraph_values(filename, hg_description)"
     ],
     "language": "python",
     "metadata": {},
     "outputs": [],
     "prompt_number": 8
    },
    {
     "cell_type": "code",
     "collapsed": false,
     "input": [
      "\n",
      "def execute_pipeline(generator_function, hypergraph_properties, directory_name, n=10):    \n",
      "    name_to_computation_functions_mapping = {\n",
      "        'analytical_nodes': compute_analytical_prediction_nodes,\n",
      "        'atomistic_nodes': compute_atomistic_results_nodes,\n",
      "        'matrix_power_nodes': compute_matrix_power_results_nodes,\n",
      "        'pykov_nodes': compute_pykov_results_nodes,\n",
      "    }\n",
      "    \n",
      "    for counter in range(n):\n",
      "        HG = generate_hypergraph(generator_function, hypergraph_properties)\n",
      "        results = compute_stationary_distributions(HG, name_to_computation_functions_mapping)\n",
      "        save_results_to_files(HG, results, counter, directory_name=directory_name)\n",
      "        print(\"%s/%s\" % (counter + 1, n))\n",
      "    print('done')"
     ],
     "language": "python",
     "metadata": {},
     "outputs": [],
     "prompt_number": 9
    },
    {
     "cell_type": "code",
     "collapsed": false,
     "input": [
      "for number_of_nodes in range(50, 90, 10):\n",
      "    print(number_of_nodes)\n",
      "    generator_function = generic_hypergraph\n",
      "    hypergraph_properties = {\n",
      "        'number_of_nodes': number_of_nodes,\n",
      "        'edges_params': ((2, 20), (3, 30), (4, 20), (5, 15), (6, 10))\n",
      "    }\n",
      "\n",
      "    directory_name = 'hypergraph_nodes_%s' % number_of_nodes\n",
      "    execute_pipeline(generator_function, hypergraph_properties, directory_name, n=10)"
     ],
     "language": "python",
     "metadata": {},
     "outputs": [
      {
       "output_type": "stream",
       "stream": "stdout",
       "text": [
        "50\n",
        "1/10"
       ]
      },
      {
       "output_type": "stream",
       "stream": "stdout",
       "text": [
        "\n",
        "2/10"
       ]
      },
      {
       "output_type": "stream",
       "stream": "stdout",
       "text": [
        "\n",
        "3/10"
       ]
      },
      {
       "output_type": "stream",
       "stream": "stdout",
       "text": [
        "\n",
        "4/10"
       ]
      },
      {
       "output_type": "stream",
       "stream": "stdout",
       "text": [
        "\n",
        "5/10"
       ]
      },
      {
       "output_type": "stream",
       "stream": "stdout",
       "text": [
        "\n",
        "6/10"
       ]
      },
      {
       "output_type": "stream",
       "stream": "stdout",
       "text": [
        "\n",
        "7/10"
       ]
      },
      {
       "output_type": "stream",
       "stream": "stdout",
       "text": [
        "\n",
        "8/10"
       ]
      },
      {
       "output_type": "stream",
       "stream": "stdout",
       "text": [
        "\n",
        "9/10"
       ]
      },
      {
       "output_type": "stream",
       "stream": "stdout",
       "text": [
        "\n",
        "10/10"
       ]
      },
      {
       "output_type": "stream",
       "stream": "stdout",
       "text": [
        "\n",
        "done\n",
        "60\n",
        "1/10"
       ]
      },
      {
       "output_type": "stream",
       "stream": "stdout",
       "text": [
        "\n",
        "2/10"
       ]
      },
      {
       "output_type": "stream",
       "stream": "stdout",
       "text": [
        "\n",
        "3/10"
       ]
      },
      {
       "output_type": "stream",
       "stream": "stdout",
       "text": [
        "\n",
        "4/10"
       ]
      },
      {
       "output_type": "stream",
       "stream": "stdout",
       "text": [
        "\n",
        "5/10"
       ]
      },
      {
       "output_type": "stream",
       "stream": "stdout",
       "text": [
        "\n",
        "6/10"
       ]
      },
      {
       "output_type": "stream",
       "stream": "stdout",
       "text": [
        "\n",
        "7/10"
       ]
      },
      {
       "output_type": "stream",
       "stream": "stdout",
       "text": [
        "\n",
        "8/10"
       ]
      },
      {
       "output_type": "stream",
       "stream": "stdout",
       "text": [
        "\n",
        "9/10"
       ]
      },
      {
       "output_type": "stream",
       "stream": "stdout",
       "text": [
        "\n",
        "10/10"
       ]
      },
      {
       "output_type": "stream",
       "stream": "stdout",
       "text": [
        "\n",
        "done\n",
        "70\n",
        "1/10"
       ]
      },
      {
       "output_type": "stream",
       "stream": "stdout",
       "text": [
        "\n",
        "2/10"
       ]
      },
      {
       "output_type": "stream",
       "stream": "stdout",
       "text": [
        "\n",
        "3/10"
       ]
      },
      {
       "output_type": "stream",
       "stream": "stdout",
       "text": [
        "\n",
        "4/10"
       ]
      },
      {
       "output_type": "stream",
       "stream": "stdout",
       "text": [
        "\n",
        "5/10"
       ]
      },
      {
       "output_type": "stream",
       "stream": "stdout",
       "text": [
        "\n",
        "6/10"
       ]
      },
      {
       "output_type": "stream",
       "stream": "stdout",
       "text": [
        "\n",
        "7/10"
       ]
      },
      {
       "output_type": "stream",
       "stream": "stdout",
       "text": [
        "\n",
        "8/10"
       ]
      },
      {
       "output_type": "stream",
       "stream": "stdout",
       "text": [
        "\n",
        "9/10"
       ]
      },
      {
       "output_type": "stream",
       "stream": "stdout",
       "text": [
        "\n",
        "10/10"
       ]
      },
      {
       "output_type": "stream",
       "stream": "stdout",
       "text": [
        "\n",
        "done\n",
        "80\n",
        "1/10"
       ]
      },
      {
       "output_type": "stream",
       "stream": "stdout",
       "text": [
        "\n",
        "2/10"
       ]
      },
      {
       "output_type": "stream",
       "stream": "stdout",
       "text": [
        "\n",
        "3/10"
       ]
      },
      {
       "output_type": "stream",
       "stream": "stdout",
       "text": [
        "\n",
        "4/10"
       ]
      },
      {
       "output_type": "stream",
       "stream": "stdout",
       "text": [
        "\n",
        "5/10"
       ]
      },
      {
       "output_type": "stream",
       "stream": "stdout",
       "text": [
        "\n",
        "6/10"
       ]
      },
      {
       "output_type": "stream",
       "stream": "stdout",
       "text": [
        "\n",
        "7/10"
       ]
      },
      {
       "output_type": "stream",
       "stream": "stdout",
       "text": [
        "\n",
        "8/10"
       ]
      },
      {
       "output_type": "stream",
       "stream": "stdout",
       "text": [
        "\n",
        "9/10"
       ]
      },
      {
       "output_type": "stream",
       "stream": "stdout",
       "text": [
        "\n",
        "10/10"
       ]
      },
      {
       "output_type": "stream",
       "stream": "stdout",
       "text": [
        "\n",
        "done\n"
       ]
      }
     ],
     "prompt_number": 24
    },
    {
     "cell_type": "code",
     "collapsed": false,
     "input": [
      "# show serialized form of hypergraph (possible to recreate it later)\n",
      "!cat hypergraph_nodes_50/0_hypergraph.csv"
     ],
     "language": "python",
     "metadata": {},
     "outputs": [
      {
       "output_type": "stream",
       "stream": "stdout",
       "text": [
        "[[33, 34], [22, 23], [25, 18], [24, 28], [41, 29], [40, 30], [27, 13], [40, 3], [24, 19], [26, 4], [41, 3], [3, 19], [9, 36], [3, 29], [48, 35], [34, 27], [17, 27], [30, 39], [11, 38], [43, 45], [25, 41, 28], [41, 49, 3], [9, 22, 47], [10, 29, 38], [33, 35, 28], [48, 22, 47], [40, 45, 30], [23, 17, 31], [42, 36, 22], [8, 27, 31], [32, 18, 19], [16, 17, 37], [50, 5, 23], [43, 6, 22], [41, 27, 31], [37, 14, 39], [36, 14, 31], [32, 21, 23], [26, 29, 6], [41, 29, 30], [16, 17, 11], [49, 21, 15], [28, 37, 23], [15, 6, 23], [34, 27, 14], [21, 46, 23], [44, 5, 37], [25, 37, 38], [15, 35, 31], [2, 11, 31], [49, 19, 5, 30], [9, 17, 27, 7], [9, 18, 44, 6], [24, 1, 38, 15], [9, 42, 36, 6], [40, 25, 26, 15], [8, 16, 42, 7], [1, 26, 50, 6], [16, 9, 17, 20], [32, 47, 7, 15], [40, 42, 11, 21], [1, 27, 20, 22], [41, 4, 29, 6], [23, 27, 30, 39], [32, 41, 10, 29], [23, 35, 46, 47], [1, 11, 12, 19], [8, 26, 11, 29], [17, 42, 50, 29], [8, 9, 43, 5], [9, 50, 20, 13, 7], [32, 11, 12, 14, 39], [16, 2, 42, 21, 6], [24, 1, 50, 45, 38], [42, 11, 43, 38, 31], [40, 1, 41, 22, 46], [24, 32, 2, 26, 5], [48, 15, 37, 5, 30], [8, 40, 11, 28, 47], [32, 42, 5, 6, 13], [7, 9, 34, 46, 31], [1, 18, 27, 38, 46], [32, 41, 12, 37, 23], [8, 1, 33, 3, 31], [11, 20, 5, 6, 37], [18, 39, 24, 27, 44, 15], [34, 4, 23, 26, 28, 13], [1, 20, 24, 10, 42, 12], [32, 4, 20, 23, 41, 30], [35, 4, 5, 21, 9, 27], [31, 49, 21, 42, 29, 47], [3, 39, 7, 23, 11, 47], [16, 48, 50, 42, 44, 14], [2, 40, 27, 45, 14, 29], [1, 35, 24, 9, 28, 29]]"
       ]
      }
     ],
     "prompt_number": 25
    },
    {
     "cell_type": "markdown",
     "metadata": {},
     "source": [
      "This way I generated a lot of data for a pretty complex hypergraph. However, how do I analyze it?\n",
      "It would be nice to load data from disc and make some basic statistics.\n",
      "I know that atomistic is the most divergent, huh. However, rest should be fine.\n",
      "\n",
      "If I for example get to compare pykov (steady state distributions of Markov Chain based on transition matrix generated from the hypergraph) with model nodes, how big differences will be?"
     ]
    },
    {
     "cell_type": "code",
     "collapsed": false,
     "input": [
      "# read example of results with numpy\n",
      "pykov_results = np.loadtxt('hypergraph_nodes_50/0_pykov_nodes.csv')"
     ],
     "language": "python",
     "metadata": {},
     "outputs": [],
     "prompt_number": 19
    },
    {
     "cell_type": "code",
     "collapsed": false,
     "input": [
      "analytical_results = np.loadtxt('hypergraph_nodes_50/0_analytical_nodes.csv')"
     ],
     "language": "python",
     "metadata": {},
     "outputs": [],
     "prompt_number": 20
    },
    {
     "cell_type": "code",
     "collapsed": false,
     "input": [
      "# compare arrays of results by computing their difference\n",
      "pykov_results - analytical_results"
     ],
     "language": "python",
     "metadata": {},
     "outputs": [
      {
       "metadata": {},
       "output_type": "pyout",
       "prompt_number": 21,
       "text": [
        "array([ -2.22218077e-14,  -2.53963517e-14,  -1.90507332e-14,\n",
        "        -2.53963517e-14,  -2.22218077e-14,  -2.22218077e-14,\n",
        "        -1.90507332e-14,   4.75314232e-16,  -1.90507332e-14,\n",
        "        -1.26981758e-14,  -1.90507332e-14,  -2.22218077e-14,\n",
        "        -2.22218077e-14,  -1.58727198e-14,  -1.58727198e-14,\n",
        "        -2.22218077e-14,  -1.90507332e-14,  -2.22218077e-14,\n",
        "        -1.90507332e-14,  -2.22218077e-14,  -2.53963517e-14,\n",
        "        -1.26981758e-14,  -2.22218077e-14,  -2.53963517e-14,\n",
        "        -2.22218077e-14,   4.75314232e-16,   4.75314232e-16,\n",
        "        -2.85708956e-14,  -2.22218077e-14,   4.75314232e-16,\n",
        "        -1.26981758e-14,  -2.22218077e-14,  -2.22218077e-14,\n",
        "        -1.26981758e-14,  -2.85708956e-14,  -2.85708956e-14,\n",
        "        -2.53963517e-14,  -1.90507332e-14,   4.75314232e-16,\n",
        "        -1.90507332e-14,  -2.85708956e-14,  -1.26981758e-14,\n",
        "        -1.26981758e-14,  -2.53963517e-14,  -2.22218077e-14,\n",
        "        -3.81014664e-14,  -1.90507332e-14,  -1.58727198e-14,\n",
        "        -2.53963517e-14,  -1.58727198e-14])"
       ]
      }
     ],
     "prompt_number": 21
    },
    {
     "cell_type": "code",
     "collapsed": false,
     "input": [
      "def compare_results(base_directory, suffix_one, suffix_two):\n",
      "    \"\"\"Compute differences between two different methods for computing the same result\"\"\"\n",
      "    filenames = os.listdir(base_directory)\n",
      "    first_filenames = [filename for filename in filenames if filename.endswith(suffix_one)]\n",
      "    first_filenames.sort()\n",
      "    second_filenames = [filename for filename in filenames if filename.endswith(suffix_two)]\n",
      "    second_filenames.sort()\n",
      "    differences = []\n",
      "    for first, second in zip(first_filenames, second_filenames):\n",
      "        difference = np.loadtxt(base_directory + '/' + first) - np.loadtxt(base_directory + '/' + second)\n",
      "        differences.append(difference)\n",
      "    return differences"
     ],
     "language": "python",
     "metadata": {},
     "outputs": [],
     "prompt_number": 22
    },
    {
     "cell_type": "code",
     "collapsed": false,
     "input": [
      "# compare all the sets of sizes\n",
      "directories = ('hypergraph_nodes_%s' % number_of_nodes for number_of_nodes in range(50, 90, 10))\n",
      "for directory in directories:\n",
      "    print(directory)\n",
      "    differences = compare_results(directory, 'pykov_nodes.csv', 'analytical_nodes.csv')\n",
      "    print('average difference', np.average(differences))\n",
      "    print('variance of differences', np.var(differences))\n",
      "    print('-' * 80)\n",
      "    print()"
     ],
     "language": "python",
     "metadata": {},
     "outputs": [
      {
       "output_type": "stream",
       "stream": "stdout",
       "text": [
        "hypergraph_nodes_50\n",
        "average difference 0.098\n",
        "variance of differences 0.086442218191\n",
        "--------------------------------------------------------------------------------\n",
        "\n",
        "hypergraph_nodes_60\n",
        "average difference -1.47337885526e-14\n",
        "variance of differences 9.65312920073e-29\n",
        "--------------------------------------------------------------------------------\n",
        "\n",
        "hypergraph_nodes_70\n",
        "average difference -1.13575604774e-14\n",
        "variance of differences 9.54913111713e-29\n",
        "--------------------------------------------------------------------------------\n",
        "\n",
        "hypergraph_nodes_80\n",
        "average difference -8.75036913588e-15\n",
        "variance of differences 9.07234803057e-29\n",
        "--------------------------------------------------------------------------------\n",
        "\n"
       ]
      }
     ],
     "prompt_number": 23
    },
    {
     "cell_type": "markdown",
     "metadata": {},
     "source": [
      "## Summing up:\n",
      "\n",
      "- differences are really small between pykov (steady states distributions of markov chain and analytical solutions"
     ]
    },
    {
     "cell_type": "code",
     "collapsed": false,
     "input": [],
     "language": "python",
     "metadata": {},
     "outputs": []
    }
   ],
   "metadata": {}
  }
 ]
}