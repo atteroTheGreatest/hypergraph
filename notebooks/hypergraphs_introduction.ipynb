{
 "metadata": {
  "name": "",
  "signature": "sha256:06523ccf49f439de8b3ba921a408b4d6a0074fd108db56686208487cc2ded22c"
 },
 "nbformat": 3,
 "nbformat_minor": 0,
 "worksheets": [
  {
   "cells": [
    {
     "cell_type": "markdown",
     "metadata": {},
     "source": [
      "In the next few paragraphs I want to write about my thoughts and observation about hypergraphs."
     ]
    },
    {
     "cell_type": "markdown",
     "metadata": {},
     "source": [
      "Few days ago I decided to read a wikipedia article about hypergraphs and it was very fruitful actually.\n",
      "\n",
      "I found out that most of my observations can be summed up by this article if read carefully.\n",
      "\n",
      "https://en.wikipedia.org/wiki/Hypergraph"
     ]
    },
    {
     "cell_type": "markdown",
     "metadata": {},
     "source": [
      "## Hypergraphs definition\n",
      "\n",
      "A hypergraph is a generalization of a graph in which an edge can connect any number of vertices. Formally, a hypergraph H is a pair H = (X, E) where X is a set of elements called nodes of vertices, and E is a set of non-empty subsets of X called hyperedges or edges.\n",
      "\n",
      "E is a subset of powerset of X minus empty set.\n",
      "\n"
     ]
    },
    {
     "cell_type": "markdown",
     "metadata": {},
     "source": [
      "In a graph, edges are pairs of nodes, in hypergraphs hyperedges can contain an arbitrary number of nodes.\n",
      "\n",
      "Hypergraphs that have hyperedges of the same cardinality (number of vertices in an edge) are called k-uniform hypergraphs where k is the number of nodes per hyperedge."
     ]
    },
    {
     "cell_type": "code",
     "collapsed": false,
     "input": [
      "%%latex\n",
      "An example of a hypergraph, with \n",
      "\\begin{equation}\n",
      "X = \\{v_1, v_2, v_3, v_4, v_5, v_6, v_7\\}\n",
      "\\end{equation}\n",
      "and \n",
      "\n",
      "\\begin{equation}\n",
      "\n",
      "E = \\{e_1,e_2,e_3,e_4\\} =  \\{\\{v_1, v_2, v_3\\}, \\{v_2,v_3\\}, \\{v_3,v_5,v_6\\}, \\{v_4\\}\\}\n",
      "\\end{equation}"
     ],
     "language": "python",
     "metadata": {},
     "outputs": [
      {
       "latex": [
        "An example of a hypergraph, with \n",
        "\\begin{equation}\n",
        "X = \\{v_1, v_2, v_3, v_4, v_5, v_6, v_7\\}\n",
        "\\end{equation}\n",
        "and \n",
        "\n",
        "\\begin{equation}\n",
        "\n",
        "E = \\{e_1,e_2,e_3,e_4\\} =  \\{\\{v_1, v_2, v_3\\}, \\{v_2,v_3\\}, \\{v_3,v_5,v_6\\}, \\{v_4\\}\\}\n",
        "\\end{equation}"
       ],
       "metadata": {},
       "output_type": "display_data",
       "text": [
        "<IPython.core.display.Latex at 0x7f34738fe160>"
       ]
      }
     ],
     "prompt_number": 8
    },
    {
     "cell_type": "markdown",
     "metadata": {},
     "source": [
      "![](https://upload.wikimedia.org/wikipedia/commons/thumb/5/57/Hypergraph-wikipedia.svg/262px-Hypergraph-wikipedia.svg.png)"
     ]
    },
    {
     "cell_type": "markdown",
     "metadata": {},
     "source": [
      "Hypergraphs can be viewed as incidence structures. In particular, there is a bipartite \"incidence graph\" or \"Levi graph\" corresponding to every hypergraph, and conversely, most, but not all, bipartite graphs can be regarded as incidence graphs of hypergraphs."
     ]
    },
    {
     "cell_type": "markdown",
     "metadata": {},
     "source": [
      "But what is this incidence structure?\n",
      "\n",
      "https://en.wikipedia.org/wiki/Incidence_structure\n",
      "\n",
      "Spodoba\u0142 mi si\u0119 fano plane i jego levi graph. Bardzo fajnie to wygl\u0105da, ale przez to, \u017ce przyk\u0142ad by\u0142 tylko jeden i to do tego specyficzny, to nie wyrobi\u0142am sobie zbyt dobrej opinii na temat tego jak to w\u0142a\u015bciwie zgeneralizowa\u0107 sobie wewn\u0119trznie."
     ]
    },
    {
     "cell_type": "markdown",
     "metadata": {},
     "source": [
      ">The 2-section (or clique graph, representing graph, primal graph, Gaifman graph) of a hypergraph is the graph with the same vertices of the hypergraph, and edges between all pairs of vertices contained in the same hyperedge."
     ]
    },
    {
     "cell_type": "markdown",
     "metadata": {},
     "source": [
      ">#Bipartite graph model\n",
      ">A hypergraph H may be represented by a bipartite graph BG as follows: the sets X and E are the partitions of BG, and (x1, e1) are connected with an edge if and only if vertex x1 is contained in edge e1 in H. Conversely, any bipartite graph with fixed parts and no unconnected nodes in the second part represents some hypergraph in the manner described above. This bipartite graph is also called incidence graph."
     ]
    },
    {
     "cell_type": "markdown",
     "metadata": {},
     "source": [
      "There is no singular notion of cycles and acyclicity for hypegraphs.\n",
      "\n",
      "They're different from each other and in some ways counter intuitive.\n",
      "\n",
      "Maybe I should explore them further for analysis of diffusion?"
     ]
    },
    {
     "cell_type": "code",
     "collapsed": false,
     "input": [
      "!pip freeze | grep pypet"
     ],
     "language": "python",
     "metadata": {},
     "outputs": [
      {
       "output_type": "stream",
       "stream": "stdout",
       "text": [
        "\u001b[1;32m\u001b[Kpypet\u001b[m\u001b[K==0.1b.8\r\n"
       ]
      }
     ],
     "prompt_number": 10
    },
    {
     "cell_type": "code",
     "collapsed": false,
     "input": [],
     "language": "python",
     "metadata": {},
     "outputs": []
    }
   ],
   "metadata": {}
  }
 ]
}